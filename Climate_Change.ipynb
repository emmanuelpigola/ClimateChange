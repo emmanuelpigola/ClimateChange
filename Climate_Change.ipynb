{
  "cells": [
    {
      "cell_type": "markdown",
      "metadata": {
        "id": "view-in-github",
        "colab_type": "text"
      },
      "source": [
        "<a href=\"https://colab.research.google.com/github/emmanuelpigola/ClimateChange/blob/main/Climate_Change.ipynb\" target=\"_parent\"><img src=\"https://colab.research.google.com/assets/colab-badge.svg\" alt=\"Open In Colab\"/></a>"
      ]
    },
    {
      "cell_type": "markdown",
      "source": [
        "# Análisis de Tweets sobre Cambio Climático: Preprocesamiento, Análisis de Sentimiento y Red Neuronal\n",
        "\n"
      ],
      "metadata": {
        "id": "EJ42RWkzPU_b"
      }
    },
    {
      "cell_type": "markdown",
      "source": [
        "# 1. Introducción:"
      ],
      "metadata": {
        "id": "JCU3Z69YmtpW"
      }
    },
    {
      "cell_type": "markdown",
      "source": [
        "Este trabajo tiene como objetivo analizar el sentimiento expresado en tweets sobre el cambio climático. El análisis de sentimiento es una técnica de Procesamiento de Lenguaje Natural (NLP) que permite identificar la opinión o emoción subyacente en un texto. En el contexto del cambio climático, comprender el sentimiento público es crucial para evaluar la percepción social, identificar áreas de preocupación y desarrollar estrategias de comunicación efectivas."
      ],
      "metadata": {
        "id": "L4Z8Wyu9PY_6"
      }
    },
    {
      "cell_type": "markdown",
      "metadata": {
        "id": "8ozKncIQR_BN"
      },
      "source": [
        "# 2. Carga y Exploración del Conjunto de Datos"
      ]
    },
    {
      "cell_type": "code",
      "execution_count": 1,
      "metadata": {
        "id": "EiUmGUP3ReQX"
      },
      "outputs": [],
      "source": [
        "import pandas as pd\n",
        "from google.colab import drive\n"
      ]
    },
    {
      "cell_type": "code",
      "source": [
        "from google.colab import drive\n",
        "drive.mount('/content/drive', force_remount=True)"
      ],
      "metadata": {
        "colab": {
          "base_uri": "https://localhost:8080/"
        },
        "id": "VfDDkg-CM5XA",
        "outputId": "ff308fa5-e7dd-4a83-e1e6-d1496e4c474c"
      },
      "execution_count": 2,
      "outputs": [
        {
          "output_type": "stream",
          "name": "stdout",
          "text": [
            "Mounted at /content/drive\n"
          ]
        }
      ]
    },
    {
      "cell_type": "code",
      "execution_count": 3,
      "metadata": {
        "colab": {
          "base_uri": "https://localhost:8080/"
        },
        "id": "sq8wxXWzR3xM",
        "outputId": "146a9d4c-87ae-489a-8f09-482391aa1984"
      },
      "outputs": [
        {
          "output_type": "stream",
          "name": "stdout",
          "text": [
            "                  created_at      id        lng        lat  \\\n",
            "0  2006-06-06 16:06:42+00:00    6132        NaN        NaN   \n",
            "1  2006-07-23 21:52:30+00:00   13275 -73.949582  40.650104   \n",
            "2  2006-08-29 01:52:30+00:00   23160        NaN        NaN   \n",
            "3  2006-11-07 02:46:52+00:00   57868        NaN        NaN   \n",
            "4  2006-11-27 14:27:43+00:00  304553        NaN        NaN   \n",
            "\n",
            "                              topic  sentiment   stance     gender  \\\n",
            "0                  Weather Extremes  -0.097180  neutral     female   \n",
            "1                  Weather Extremes   0.575777  neutral  undefined   \n",
            "2                  Weather Extremes   0.500479  neutral       male   \n",
            "3                  Weather Extremes   0.032816  neutral       male   \n",
            "4  Importance of Human Intervantion  -0.090428  neutral       male   \n",
            "\n",
            "   temperature_avg aggressiveness  \n",
            "0              NaN     aggressive  \n",
            "1        -1.114768     aggressive  \n",
            "2              NaN     aggressive  \n",
            "3              NaN     aggressive  \n",
            "4              NaN     aggressive  \n"
          ]
        }
      ],
      "source": [
        "# Cargar el conjunto de datos\n",
        "tweets_df = pd.read_csv('/content/drive/MyDrive/climate_change_tweets.csv')\n",
        "\n",
        "# Convertir todos los valores de la columna 'topic' a string, por si acaso\n",
        "tweets_df['topic'] = tweets_df['topic'].astype(str)\n",
        "\n",
        "# Mostrar las primeras filas del DataFrame\n",
        "print(tweets_df.head())"
      ]
    },
    {
      "cell_type": "markdown",
      "source": [
        "El conjunto de datos contiene tweets relacionados con el cambio climático, con información sobre la fecha de creación, ubicación, sentimiento, postura, género del usuario, y otros detalles."
      ],
      "metadata": {
        "id": "S80pUboom4B_"
      }
    },
    {
      "cell_type": "markdown",
      "metadata": {
        "id": "3PA8zRNzSCrE"
      },
      "source": [
        "# 3. Preprocesamiento de los Tweets"
      ]
    },
    {
      "cell_type": "markdown",
      "source": [
        "Se realiza tokenización, eliminación de *stop words* y lematización para preparar los tweets para su análisis:"
      ],
      "metadata": {
        "id": "tRR8CoEsPnIU"
      }
    },
    {
      "cell_type": "code",
      "execution_count": 4,
      "metadata": {
        "id": "QkbLqsJr5Vrk",
        "colab": {
          "base_uri": "https://localhost:8080/"
        },
        "outputId": "e7ab1170-8a88-46eb-d76a-4d5624587503"
      },
      "outputs": [
        {
          "output_type": "stream",
          "name": "stderr",
          "text": [
            "[nltk_data] Downloading package punkt to /root/nltk_data...\n",
            "[nltk_data]   Unzipping tokenizers/punkt.zip.\n",
            "[nltk_data] Downloading package stopwords to /root/nltk_data...\n",
            "[nltk_data]   Unzipping corpora/stopwords.zip.\n",
            "[nltk_data] Downloading package wordnet to /root/nltk_data...\n"
          ]
        },
        {
          "output_type": "stream",
          "name": "stdout",
          "text": [
            "Processing text: Weather Extremes\n",
            "Tokens: ['weather', 'extremes']\n",
            "Filtered tokens: ['weather', 'extremes']\n",
            "Lemmatized tokens: ['weather', 'extreme']\n",
            "Processing text: Weather Extremes\n",
            "Tokens: ['weather', 'extremes']\n",
            "Filtered tokens: ['weather', 'extremes']\n",
            "Lemmatized tokens: ['weather', 'extreme']\n",
            "Processing text: Weather Extremes\n",
            "Tokens: ['weather', 'extremes']\n",
            "Filtered tokens: ['weather', 'extremes']\n",
            "Lemmatized tokens: ['weather', 'extreme']\n",
            "Processing text: Weather Extremes\n",
            "Tokens: ['weather', 'extremes']\n",
            "Filtered tokens: ['weather', 'extremes']\n",
            "Lemmatized tokens: ['weather', 'extreme']\n",
            "Processing text: Importance of Human Intervantion\n",
            "Tokens: ['importance', 'of', 'human', 'intervantion']\n",
            "Filtered tokens: ['importance', 'human', 'intervantion']\n",
            "Lemmatized tokens: ['importance', 'human', 'intervantion']\n",
            "Processing text: Seriousness of Gas Emissions\n",
            "Tokens: ['seriousness', 'of', 'gas', 'emissions']\n",
            "Filtered tokens: ['seriousness', 'gas', 'emissions']\n",
            "Lemmatized tokens: ['seriousness', 'gas', 'emission']\n",
            "Processing text: Ideological Positions on Global Warming\n",
            "Tokens: ['ideological', 'positions', 'on', 'global', 'warming']\n",
            "Filtered tokens: ['ideological', 'positions', 'global', 'warming']\n",
            "Lemmatized tokens: ['ideological', 'position', 'global', 'warming']\n",
            "Processing text: Ideological Positions on Global Warming\n",
            "Tokens: ['ideological', 'positions', 'on', 'global', 'warming']\n",
            "Filtered tokens: ['ideological', 'positions', 'global', 'warming']\n",
            "Lemmatized tokens: ['ideological', 'position', 'global', 'warming']\n",
            "Processing text: Weather Extremes\n",
            "Tokens: ['weather', 'extremes']\n",
            "Filtered tokens: ['weather', 'extremes']\n",
            "Lemmatized tokens: ['weather', 'extreme']\n",
            "Processing text: Weather Extremes\n",
            "Tokens: ['weather', 'extremes']\n",
            "Filtered tokens: ['weather', 'extremes']\n",
            "Lemmatized tokens: ['weather', 'extreme']\n",
            "Processing text: Impact of Resource Overconsumption\n",
            "Tokens: ['impact', 'of', 'resource', 'overconsumption']\n",
            "Filtered tokens: ['impact', 'resource', 'overconsumption']\n",
            "Lemmatized tokens: ['impact', 'resource', 'overconsumption']\n",
            "Processing text: Weather Extremes\n",
            "Tokens: ['weather', 'extremes']\n",
            "Filtered tokens: ['weather', 'extremes']\n",
            "Lemmatized tokens: ['weather', 'extreme']\n",
            "Processing text: Weather Extremes\n",
            "Tokens: ['weather', 'extremes']\n",
            "Filtered tokens: ['weather', 'extremes']\n",
            "Lemmatized tokens: ['weather', 'extreme']\n",
            "Processing text: Weather Extremes\n",
            "Tokens: ['weather', 'extremes']\n",
            "Filtered tokens: ['weather', 'extremes']\n",
            "Lemmatized tokens: ['weather', 'extreme']\n",
            "Processing text: Weather Extremes\n",
            "Tokens: ['weather', 'extremes']\n",
            "Filtered tokens: ['weather', 'extremes']\n",
            "Lemmatized tokens: ['weather', 'extreme']\n",
            "Processing text: Impact of Resource Overconsumption\n",
            "Tokens: ['impact', 'of', 'resource', 'overconsumption']\n",
            "Filtered tokens: ['impact', 'resource', 'overconsumption']\n",
            "Lemmatized tokens: ['impact', 'resource', 'overconsumption']\n",
            "Processing text: Global stance\n",
            "Tokens: ['global', 'stance']\n",
            "Filtered tokens: ['global', 'stance']\n",
            "Lemmatized tokens: ['global', 'stance']\n",
            "Processing text: Global stance\n",
            "Tokens: ['global', 'stance']\n",
            "Filtered tokens: ['global', 'stance']\n",
            "Lemmatized tokens: ['global', 'stance']\n",
            "Processing text: Global stance\n",
            "Tokens: ['global', 'stance']\n",
            "Filtered tokens: ['global', 'stance']\n",
            "Lemmatized tokens: ['global', 'stance']\n",
            "Processing text: Global stance\n",
            "Tokens: ['global', 'stance']\n",
            "Filtered tokens: ['global', 'stance']\n",
            "Lemmatized tokens: ['global', 'stance']\n",
            "Processing text: Global stance\n",
            "Tokens: ['global', 'stance']\n",
            "Filtered tokens: ['global', 'stance']\n",
            "Lemmatized tokens: ['global', 'stance']\n",
            "Processing text: Global stance\n",
            "Tokens: ['global', 'stance']\n",
            "Filtered tokens: ['global', 'stance']\n",
            "Lemmatized tokens: ['global', 'stance']\n",
            "Processing text: Global stance\n",
            "Tokens: ['global', 'stance']\n",
            "Filtered tokens: ['global', 'stance']\n",
            "Lemmatized tokens: ['global', 'stance']\n",
            "Processing text: Importance of Human Intervantion\n",
            "Tokens: ['importance', 'of', 'human', 'intervantion']\n",
            "Filtered tokens: ['importance', 'human', 'intervantion']\n",
            "Lemmatized tokens: ['importance', 'human', 'intervantion']\n",
            "Processing text: Weather Extremes\n",
            "Tokens: ['weather', 'extremes']\n",
            "Filtered tokens: ['weather', 'extremes']\n",
            "Lemmatized tokens: ['weather', 'extreme']\n",
            "Processing text: Weather Extremes\n",
            "Tokens: ['weather', 'extremes']\n",
            "Filtered tokens: ['weather', 'extremes']\n",
            "Lemmatized tokens: ['weather', 'extreme']\n",
            "Processing text: Importance of Human Intervantion\n",
            "Tokens: ['importance', 'of', 'human', 'intervantion']\n",
            "Filtered tokens: ['importance', 'human', 'intervantion']\n",
            "Lemmatized tokens: ['importance', 'human', 'intervantion']\n",
            "Processing text: Importance of Human Intervantion\n",
            "Tokens: ['importance', 'of', 'human', 'intervantion']\n",
            "Filtered tokens: ['importance', 'human', 'intervantion']\n",
            "Lemmatized tokens: ['importance', 'human', 'intervantion']\n",
            "Processing text: Importance of Human Intervantion\n",
            "Tokens: ['importance', 'of', 'human', 'intervantion']\n",
            "Filtered tokens: ['importance', 'human', 'intervantion']\n",
            "Lemmatized tokens: ['importance', 'human', 'intervantion']\n",
            "Processing text: Politics\n",
            "Tokens: ['politics']\n",
            "Filtered tokens: ['politics']\n",
            "Lemmatized tokens: ['politics']\n",
            "Processing text: Weather Extremes\n",
            "Tokens: ['weather', 'extremes']\n",
            "Filtered tokens: ['weather', 'extremes']\n",
            "Lemmatized tokens: ['weather', 'extreme']\n",
            "Processing text: Weather Extremes\n",
            "Tokens: ['weather', 'extremes']\n",
            "Filtered tokens: ['weather', 'extremes']\n",
            "Lemmatized tokens: ['weather', 'extreme']\n",
            "Processing text: Global stance\n",
            "Tokens: ['global', 'stance']\n",
            "Filtered tokens: ['global', 'stance']\n",
            "Lemmatized tokens: ['global', 'stance']\n",
            "Processing text: Weather Extremes\n",
            "Tokens: ['weather', 'extremes']\n",
            "Filtered tokens: ['weather', 'extremes']\n",
            "Lemmatized tokens: ['weather', 'extreme']\n",
            "Processing text: Significance of Pollution Awareness Events\n",
            "Tokens: ['significance', 'of', 'pollution', 'awareness', 'events']\n",
            "Filtered tokens: ['significance', 'pollution', 'awareness', 'events']\n",
            "Lemmatized tokens: ['significance', 'pollution', 'awareness', 'event']\n",
            "Processing text: Weather Extremes\n",
            "Tokens: ['weather', 'extremes']\n",
            "Filtered tokens: ['weather', 'extremes']\n",
            "Lemmatized tokens: ['weather', 'extreme']\n",
            "Processing text: Global stance\n",
            "Tokens: ['global', 'stance']\n",
            "Filtered tokens: ['global', 'stance']\n",
            "Lemmatized tokens: ['global', 'stance']\n",
            "Processing text: Global stance\n",
            "Tokens: ['global', 'stance']\n",
            "Filtered tokens: ['global', 'stance']\n",
            "Lemmatized tokens: ['global', 'stance']\n",
            "Processing text: Weather Extremes\n",
            "Tokens: ['weather', 'extremes']\n",
            "Filtered tokens: ['weather', 'extremes']\n",
            "Lemmatized tokens: ['weather', 'extreme']\n",
            "Processing text: Donald Trump versus Science\n",
            "Tokens: ['donald', 'trump', 'versus', 'science']\n",
            "Filtered tokens: ['donald', 'trump', 'versus', 'science']\n",
            "Lemmatized tokens: ['donald', 'trump', 'versus', 'science']\n",
            "Processing text: Importance of Human Intervantion\n",
            "Tokens: ['importance', 'of', 'human', 'intervantion']\n",
            "Filtered tokens: ['importance', 'human', 'intervantion']\n",
            "Lemmatized tokens: ['importance', 'human', 'intervantion']\n",
            "Processing text: Importance of Human Intervantion\n",
            "Tokens: ['importance', 'of', 'human', 'intervantion']\n",
            "Filtered tokens: ['importance', 'human', 'intervantion']\n",
            "Lemmatized tokens: ['importance', 'human', 'intervantion']\n",
            "Processing text: Importance of Human Intervantion\n",
            "Tokens: ['importance', 'of', 'human', 'intervantion']\n",
            "Filtered tokens: ['importance', 'human', 'intervantion']\n",
            "Lemmatized tokens: ['importance', 'human', 'intervantion']\n",
            "Processing text: Weather Extremes\n",
            "Tokens: ['weather', 'extremes']\n",
            "Filtered tokens: ['weather', 'extremes']\n",
            "Lemmatized tokens: ['weather', 'extreme']\n",
            "Processing text: Weather Extremes\n",
            "Tokens: ['weather', 'extremes']\n",
            "Filtered tokens: ['weather', 'extremes']\n",
            "Lemmatized tokens: ['weather', 'extreme']\n",
            "Processing text: Global stance\n",
            "Tokens: ['global', 'stance']\n",
            "Filtered tokens: ['global', 'stance']\n",
            "Lemmatized tokens: ['global', 'stance']\n",
            "Processing text: Global stance\n",
            "Tokens: ['global', 'stance']\n",
            "Filtered tokens: ['global', 'stance']\n",
            "Lemmatized tokens: ['global', 'stance']\n",
            "Processing text: Weather Extremes\n",
            "Tokens: ['weather', 'extremes']\n",
            "Filtered tokens: ['weather', 'extremes']\n",
            "Lemmatized tokens: ['weather', 'extreme']\n",
            "Processing text: Global stance\n",
            "Tokens: ['global', 'stance']\n",
            "Filtered tokens: ['global', 'stance']\n",
            "Lemmatized tokens: ['global', 'stance']\n",
            "Processing text: Weather Extremes\n",
            "Tokens: ['weather', 'extremes']\n",
            "Filtered tokens: ['weather', 'extremes']\n",
            "Lemmatized tokens: ['weather', 'extreme']\n",
            "Processing text: Weather Extremes\n",
            "Tokens: ['weather', 'extremes']\n",
            "Filtered tokens: ['weather', 'extremes']\n",
            "Lemmatized tokens: ['weather', 'extreme']\n",
            "Processing text: Global stance\n",
            "Tokens: ['global', 'stance']\n",
            "Filtered tokens: ['global', 'stance']\n",
            "Lemmatized tokens: ['global', 'stance']\n",
            "Processing text: Global stance\n",
            "Tokens: ['global', 'stance']\n",
            "Filtered tokens: ['global', 'stance']\n",
            "Lemmatized tokens: ['global', 'stance']\n",
            "Processing text: Global stance\n",
            "Tokens: ['global', 'stance']\n",
            "Filtered tokens: ['global', 'stance']\n",
            "Lemmatized tokens: ['global', 'stance']\n",
            "Processing text: Global stance\n",
            "Tokens: ['global', 'stance']\n",
            "Filtered tokens: ['global', 'stance']\n",
            "Lemmatized tokens: ['global', 'stance']\n",
            "Processing text: Weather Extremes\n",
            "Tokens: ['weather', 'extremes']\n",
            "Filtered tokens: ['weather', 'extremes']\n",
            "Lemmatized tokens: ['weather', 'extreme']\n",
            "Processing text: Importance of Human Intervantion\n",
            "Tokens: ['importance', 'of', 'human', 'intervantion']\n",
            "Filtered tokens: ['importance', 'human', 'intervantion']\n",
            "Lemmatized tokens: ['importance', 'human', 'intervantion']\n",
            "Processing text: Undefined / One Word Hashtags\n",
            "Tokens: ['undefined', '/', 'one', 'word', 'hashtags']\n",
            "Filtered tokens: ['undefined', 'one', 'word', 'hashtags']\n",
            "Lemmatized tokens: ['undefined', 'one', 'word', 'hashtags']\n",
            "Processing text: Global stance\n",
            "Tokens: ['global', 'stance']\n",
            "Filtered tokens: ['global', 'stance']\n",
            "Lemmatized tokens: ['global', 'stance']\n",
            "Processing text: Global stance\n",
            "Tokens: ['global', 'stance']\n",
            "Filtered tokens: ['global', 'stance']\n",
            "Lemmatized tokens: ['global', 'stance']\n",
            "Processing text: Weather Extremes\n",
            "Tokens: ['weather', 'extremes']\n",
            "Filtered tokens: ['weather', 'extremes']\n",
            "Lemmatized tokens: ['weather', 'extreme']\n",
            "Processing text: Weather Extremes\n",
            "Tokens: ['weather', 'extremes']\n",
            "Filtered tokens: ['weather', 'extremes']\n",
            "Lemmatized tokens: ['weather', 'extreme']\n",
            "Processing text: Weather Extremes\n",
            "Tokens: ['weather', 'extremes']\n",
            "Filtered tokens: ['weather', 'extremes']\n",
            "Lemmatized tokens: ['weather', 'extreme']\n",
            "Processing text: Importance of Human Intervantion\n",
            "Tokens: ['importance', 'of', 'human', 'intervantion']\n",
            "Filtered tokens: ['importance', 'human', 'intervantion']\n",
            "Lemmatized tokens: ['importance', 'human', 'intervantion']\n",
            "Processing text: Importance of Human Intervantion\n",
            "Tokens: ['importance', 'of', 'human', 'intervantion']\n",
            "Filtered tokens: ['importance', 'human', 'intervantion']\n",
            "Lemmatized tokens: ['importance', 'human', 'intervantion']\n",
            "Processing text: Global stance\n",
            "Tokens: ['global', 'stance']\n",
            "Filtered tokens: ['global', 'stance']\n",
            "Lemmatized tokens: ['global', 'stance']\n",
            "Processing text: Importance of Human Intervantion\n",
            "Tokens: ['importance', 'of', 'human', 'intervantion']\n",
            "Filtered tokens: ['importance', 'human', 'intervantion']\n",
            "Lemmatized tokens: ['importance', 'human', 'intervantion']\n",
            "Processing text: Global stance\n",
            "Tokens: ['global', 'stance']\n",
            "Filtered tokens: ['global', 'stance']\n",
            "Lemmatized tokens: ['global', 'stance']\n",
            "Processing text: Politics\n",
            "Tokens: ['politics']\n",
            "Filtered tokens: ['politics']\n",
            "Lemmatized tokens: ['politics']\n",
            "Processing text: Weather Extremes\n",
            "Tokens: ['weather', 'extremes']\n",
            "Filtered tokens: ['weather', 'extremes']\n",
            "Lemmatized tokens: ['weather', 'extreme']\n",
            "Processing text: Importance of Human Intervantion\n",
            "Tokens: ['importance', 'of', 'human', 'intervantion']\n",
            "Filtered tokens: ['importance', 'human', 'intervantion']\n",
            "Lemmatized tokens: ['importance', 'human', 'intervantion']\n",
            "Processing text: Weather Extremes\n",
            "Tokens: ['weather', 'extremes']\n",
            "Filtered tokens: ['weather', 'extremes']\n",
            "Lemmatized tokens: ['weather', 'extreme']\n",
            "Processing text: Importance of Human Intervantion\n",
            "Tokens: ['importance', 'of', 'human', 'intervantion']\n",
            "Filtered tokens: ['importance', 'human', 'intervantion']\n",
            "Lemmatized tokens: ['importance', 'human', 'intervantion']\n",
            "Processing text: Importance of Human Intervantion\n",
            "Tokens: ['importance', 'of', 'human', 'intervantion']\n",
            "Filtered tokens: ['importance', 'human', 'intervantion']\n",
            "Lemmatized tokens: ['importance', 'human', 'intervantion']\n",
            "Processing text: Importance of Human Intervantion\n",
            "Tokens: ['importance', 'of', 'human', 'intervantion']\n",
            "Filtered tokens: ['importance', 'human', 'intervantion']\n",
            "Lemmatized tokens: ['importance', 'human', 'intervantion']\n",
            "Processing text: Weather Extremes\n",
            "Tokens: ['weather', 'extremes']\n",
            "Filtered tokens: ['weather', 'extremes']\n",
            "Lemmatized tokens: ['weather', 'extreme']\n",
            "Processing text: Importance of Human Intervantion\n",
            "Tokens: ['importance', 'of', 'human', 'intervantion']\n",
            "Filtered tokens: ['importance', 'human', 'intervantion']\n",
            "Lemmatized tokens: ['importance', 'human', 'intervantion']\n",
            "Processing text: Ideological Positions on Global Warming\n",
            "Tokens: ['ideological', 'positions', 'on', 'global', 'warming']\n",
            "Filtered tokens: ['ideological', 'positions', 'global', 'warming']\n",
            "Lemmatized tokens: ['ideological', 'position', 'global', 'warming']\n",
            "Processing text: Weather Extremes\n",
            "Tokens: ['weather', 'extremes']\n",
            "Filtered tokens: ['weather', 'extremes']\n",
            "Lemmatized tokens: ['weather', 'extreme']\n",
            "Processing text: Importance of Human Intervantion\n",
            "Tokens: ['importance', 'of', 'human', 'intervantion']\n",
            "Filtered tokens: ['importance', 'human', 'intervantion']\n",
            "Lemmatized tokens: ['importance', 'human', 'intervantion']\n",
            "Processing text: Donald Trump versus Science\n",
            "Tokens: ['donald', 'trump', 'versus', 'science']\n",
            "Filtered tokens: ['donald', 'trump', 'versus', 'science']\n",
            "Lemmatized tokens: ['donald', 'trump', 'versus', 'science']\n",
            "Processing text: Weather Extremes\n",
            "Tokens: ['weather', 'extremes']\n",
            "Filtered tokens: ['weather', 'extremes']\n",
            "Lemmatized tokens: ['weather', 'extreme']\n",
            "Processing text: Importance of Human Intervantion\n",
            "Tokens: ['importance', 'of', 'human', 'intervantion']\n",
            "Filtered tokens: ['importance', 'human', 'intervantion']\n",
            "Lemmatized tokens: ['importance', 'human', 'intervantion']\n",
            "Processing text: Global stance\n",
            "Tokens: ['global', 'stance']\n",
            "Filtered tokens: ['global', 'stance']\n",
            "Lemmatized tokens: ['global', 'stance']\n",
            "Processing text: Seriousness of Gas Emissions\n",
            "Tokens: ['seriousness', 'of', 'gas', 'emissions']\n",
            "Filtered tokens: ['seriousness', 'gas', 'emissions']\n",
            "Lemmatized tokens: ['seriousness', 'gas', 'emission']\n",
            "Processing text: Importance of Human Intervantion\n",
            "Tokens: ['importance', 'of', 'human', 'intervantion']\n",
            "Filtered tokens: ['importance', 'human', 'intervantion']\n",
            "Lemmatized tokens: ['importance', 'human', 'intervantion']\n",
            "Processing text: Weather Extremes\n",
            "Tokens: ['weather', 'extremes']\n",
            "Filtered tokens: ['weather', 'extremes']\n",
            "Lemmatized tokens: ['weather', 'extreme']\n",
            "Processing text: Importance of Human Intervantion\n",
            "Tokens: ['importance', 'of', 'human', 'intervantion']\n",
            "Filtered tokens: ['importance', 'human', 'intervantion']\n",
            "Lemmatized tokens: ['importance', 'human', 'intervantion']\n",
            "Processing text: Importance of Human Intervantion\n",
            "Tokens: ['importance', 'of', 'human', 'intervantion']\n",
            "Filtered tokens: ['importance', 'human', 'intervantion']\n",
            "Lemmatized tokens: ['importance', 'human', 'intervantion']\n",
            "Processing text: Importance of Human Intervantion\n",
            "Tokens: ['importance', 'of', 'human', 'intervantion']\n",
            "Filtered tokens: ['importance', 'human', 'intervantion']\n",
            "Lemmatized tokens: ['importance', 'human', 'intervantion']\n",
            "Processing text: Weather Extremes\n",
            "Tokens: ['weather', 'extremes']\n",
            "Filtered tokens: ['weather', 'extremes']\n",
            "Lemmatized tokens: ['weather', 'extreme']\n",
            "Processing text: Weather Extremes\n",
            "Tokens: ['weather', 'extremes']\n",
            "Filtered tokens: ['weather', 'extremes']\n",
            "Lemmatized tokens: ['weather', 'extreme']\n",
            "Processing text: Weather Extremes\n",
            "Tokens: ['weather', 'extremes']\n",
            "Filtered tokens: ['weather', 'extremes']\n",
            "Lemmatized tokens: ['weather', 'extreme']\n",
            "Processing text: Weather Extremes\n",
            "Tokens: ['weather', 'extremes']\n",
            "Filtered tokens: ['weather', 'extremes']\n",
            "Lemmatized tokens: ['weather', 'extreme']\n",
            "Processing text: Donald Trump versus Science\n",
            "Tokens: ['donald', 'trump', 'versus', 'science']\n",
            "Filtered tokens: ['donald', 'trump', 'versus', 'science']\n",
            "Lemmatized tokens: ['donald', 'trump', 'versus', 'science']\n",
            "Processing text: Weather Extremes\n",
            "Tokens: ['weather', 'extremes']\n",
            "Filtered tokens: ['weather', 'extremes']\n",
            "Lemmatized tokens: ['weather', 'extreme']\n",
            "Processing text: Weather Extremes\n",
            "Tokens: ['weather', 'extremes']\n",
            "Filtered tokens: ['weather', 'extremes']\n",
            "Lemmatized tokens: ['weather', 'extreme']\n",
            "Processing text: Global stance\n",
            "Tokens: ['global', 'stance']\n",
            "Filtered tokens: ['global', 'stance']\n",
            "Lemmatized tokens: ['global', 'stance']\n",
            "Processing text: Importance of Human Intervantion\n",
            "Tokens: ['importance', 'of', 'human', 'intervantion']\n",
            "Filtered tokens: ['importance', 'human', 'intervantion']\n",
            "Lemmatized tokens: ['importance', 'human', 'intervantion']\n",
            "Processing text: Importance of Human Intervantion\n",
            "Tokens: ['importance', 'of', 'human', 'intervantion']\n",
            "Filtered tokens: ['importance', 'human', 'intervantion']\n",
            "Lemmatized tokens: ['importance', 'human', 'intervantion']\n"
          ]
        },
        {
          "output_type": "stream",
          "name": "stderr",
          "text": [
            "<ipython-input-4-375d5f7c8d7a>:45: SettingWithCopyWarning: \n",
            "A value is trying to be set on a copy of a slice from a DataFrame.\n",
            "Try using .loc[row_indexer,col_indexer] = value instead\n",
            "\n",
            "See the caveats in the documentation: https://pandas.pydata.org/pandas-docs/stable/user_guide/indexing.html#returning-a-view-versus-a-copy\n",
            "  sample_df['processed_text'] = sample_df['topic'].apply(preprocess_text)\n",
            "<ipython-input-4-375d5f7c8d7a>:46: SettingWithCopyWarning: \n",
            "A value is trying to be set on a copy of a slice from a DataFrame.\n",
            "Try using .loc[row_indexer,col_indexer] = value instead\n",
            "\n",
            "See the caveats in the documentation: https://pandas.pydata.org/pandas-docs/stable/user_guide/indexing.html#returning-a-view-versus-a-copy\n",
            "  sample_df['processed_string'] = sample_df['processed_text'].apply(lambda x: ' '.join(x))\n"
          ]
        }
      ],
      "source": [
        "import pandas as pd\n",
        "import nltk\n",
        "from nltk.tokenize import word_tokenize\n",
        "from nltk.corpus import stopwords\n",
        "from nltk.stem import WordNetLemmatizer\n",
        "\n",
        "# Descargar recursos necesarios de nltk\n",
        "nltk.download('punkt')\n",
        "nltk.download('stopwords')\n",
        "nltk.download('wordnet')\n",
        "\n",
        "# Inicializar el lematizador\n",
        "lemmatizer = WordNetLemmatizer()\n",
        "\n",
        "# Obtener las stopwords en inglés\n",
        "stop_words = set(stopwords.words('english'))\n",
        "\n",
        "# Función de preprocesamiento\n",
        "def preprocess_text(text):\n",
        "    try:\n",
        "        print(f\"Processing text: {text}\")\n",
        "        # Tokenización\n",
        "        tokens = word_tokenize(text.lower())\n",
        "        print(f\"Tokens: {tokens}\")\n",
        "\n",
        "        # Remover stopwords y caracteres no alfabéticos\n",
        "        filtered_tokens = [word for word in tokens if word not in stop_words and word.isalpha()]\n",
        "        print(f\"Filtered tokens: {filtered_tokens}\")\n",
        "\n",
        "        # Lematización\n",
        "        lemmatized_tokens = [lemmatizer.lemmatize(word) for word in filtered_tokens]\n",
        "        print(f\"Lemmatized tokens: {lemmatized_tokens}\")\n",
        "\n",
        "        return lemmatized_tokens\n",
        "    except Exception as e:\n",
        "        print(f\"Error processing text: {text}\")\n",
        "        print(e)\n",
        "        return []\n",
        "\n",
        "# Convertir todos los valores de la columna 'topic' a string\n",
        "tweets_df['topic'] = tweets_df['topic'].astype(str)\n",
        "\n",
        "# Probar con un subconjunto más pequeño\n",
        "sample_df = tweets_df.head(100)\n",
        "sample_df['processed_text'] = sample_df['topic'].apply(preprocess_text)\n",
        "sample_df['processed_string'] = sample_df['processed_text'].apply(lambda x: ' '.join(x))\n"
      ]
    },
    {
      "cell_type": "markdown",
      "source": [
        "# Explicación del Preprocesamiento:\n",
        "**Tokenización**: Se divide el texto en unidades individuales llamadas tokens, que generalmente son palabras.\n",
        "\n",
        "**Eliminación de Stop Words**: Se eliminan palabras comunes del idioma que no aportan mucho significado al análisis (ej., \"the\", \"a\", \"is\").\n",
        "\n",
        "**Lematización**: Se reduce cada palabra a su forma base o raíz, agrupando palabras con significado similar (ej., \"running\" -> \"run\")."
      ],
      "metadata": {
        "id": "yU9GVCaqPvNZ"
      }
    },
    {
      "cell_type": "markdown",
      "source": [
        "# Beneficios del Preprocesamiento:\n",
        "\n",
        "*   Permite enfocarse en las palabras con mayor significado semántico.\n",
        "*   Reduce el ruido en los datos.\n",
        "*   Facilita el análisis posterior al agrupar palabras con significado similar"
      ],
      "metadata": {
        "id": "oKEOjBwIQCQI"
      }
    },
    {
      "cell_type": "markdown",
      "metadata": {
        "id": "eb5N52uLST8A"
      },
      "source": [
        "# 4. Análisis de Sentimiento y TF-IDF"
      ]
    },
    {
      "cell_type": "markdown",
      "source": [
        "Se utiliza la librería TextBlob para el análisis de sentimiento y TF-IDF para identificar las palabras más relevantes:"
      ],
      "metadata": {
        "id": "HlurO9S-QRXR"
      }
    },
    {
      "cell_type": "code",
      "execution_count": 5,
      "metadata": {
        "id": "8aYpV0i6SVZ0"
      },
      "outputs": [],
      "source": [
        "from sklearn.feature_extraction.text import TfidfVectorizer\n",
        "from textblob import TextBlob"
      ]
    },
    {
      "cell_type": "markdown",
      "source": [
        "TF-IDF: Los valores más altos de TF-IDF indican las palabras más relevantes para cada tweet. Por ejemplo, en el Tweet 1, \"extreme\" y \"weather\" tienen el mismo valor alto, lo que sugiere que el tweet trata sobre eventos climáticos extremos. *Análisis de Sentimiento: *La salida muestra la polaridad y subjetividad de cada tweet. Por ejemplo, un tweet con sentimiento (0.5, 0.8) tiene una polaridad positiva (0.5) y es bastante subjetivo (0.8)."
      ],
      "metadata": {
        "id": "s2z9ORByjeyt"
      }
    },
    {
      "cell_type": "markdown",
      "source": [
        "**4.1. Análisis de Sentimiento General**"
      ],
      "metadata": {
        "id": "H2vYTGzOi3e6"
      }
    },
    {
      "cell_type": "code",
      "source": [
        "sample_df['sentiment'] = sample_df['processed_string'].apply(lambda x: TextBlob(x).sentiment)\n",
        "print(\"\\n--- Análisis de Sentimiento General:\")\n",
        "print(sample_df[['processed_string', 'sentiment']].head(100))"
      ],
      "metadata": {
        "colab": {
          "base_uri": "https://localhost:8080/"
        },
        "id": "Hf1JfjEsi85D",
        "outputId": "29698382-2740-486c-d9d9-b0604180c00b"
      },
      "execution_count": 6,
      "outputs": [
        {
          "output_type": "stream",
          "name": "stdout",
          "text": [
            "\n",
            "--- Análisis de Sentimiento General:\n",
            "                 processed_string      sentiment\n",
            "0                 weather extreme  (-0.125, 1.0)\n",
            "1                 weather extreme  (-0.125, 1.0)\n",
            "2                 weather extreme  (-0.125, 1.0)\n",
            "3                 weather extreme  (-0.125, 1.0)\n",
            "4   importance human intervantion     (0.0, 0.1)\n",
            "..                            ...            ...\n",
            "95                weather extreme  (-0.125, 1.0)\n",
            "96                weather extreme  (-0.125, 1.0)\n",
            "97                  global stance     (0.0, 0.0)\n",
            "98  importance human intervantion     (0.0, 0.1)\n",
            "99  importance human intervantion     (0.0, 0.1)\n",
            "\n",
            "[100 rows x 2 columns]\n"
          ]
        },
        {
          "output_type": "stream",
          "name": "stderr",
          "text": [
            "<ipython-input-6-afb1bd650039>:1: SettingWithCopyWarning: \n",
            "A value is trying to be set on a copy of a slice from a DataFrame.\n",
            "Try using .loc[row_indexer,col_indexer] = value instead\n",
            "\n",
            "See the caveats in the documentation: https://pandas.pydata.org/pandas-docs/stable/user_guide/indexing.html#returning-a-view-versus-a-copy\n",
            "  sample_df['sentiment'] = sample_df['processed_string'].apply(lambda x: TextBlob(x).sentiment)\n"
          ]
        }
      ]
    },
    {
      "cell_type": "markdown",
      "source": [
        "**Interpretación**\n",
        "Observamos que la mayoría de los tweets tienen una polaridad cercana a cero, lo que indica un sentimiento neutral o ligeramente negativo. Por ejemplo, los tweets que contienen \"weather extreme\" como \"Weather extremes are becoming more frequent and intense due to climate change\" tienen una polaridad de -0.125. Esto sugiere que las discusiones sobre eventos climáticos extremos tienden a ser más bien serias o preocupantes.\n",
        "Sin embargo, también hay ejemplos de tweets con una polaridad más positiva, como \"Excited about the new initiatives for renewable energy!\" Este tipo de tweets suelen estar relacionados con soluciones o acciones positivas para combatir el cambio climático.\n",
        "La subjetividad de los tweets también es importante. Una subjetividad alta indica que el tweet expresa una opinión personal, mientras que una subjetividad baja indica que el tweet es más objetivo. En este dataset, la mayoría de los tweets tienen una subjetividad alta, lo que sugiere que las personas están expresando sus propias opiniones y emociones sobre el cambio climático.\n"
      ],
      "metadata": {
        "id": "sjkxRJT4a2S7"
      }
    },
    {
      "cell_type": "markdown",
      "source": [
        "**4.2. Análisis de Sentimiento Basado en Aspectos**"
      ],
      "metadata": {
        "id": "bVkuyGRujDmH"
      }
    },
    {
      "cell_type": "code",
      "source": [
        "import spacy\n",
        "\n",
        "nlp = spacy.load(\"en_core_web_sm\")\n",
        "aspectos_clave = [\"climate change\", \"government\", \"renewable energy\", \"emission\", \"global warming\"]\n",
        "\n",
        "def analizar_sentimiento_aspectos(texto):\n",
        "    doc = nlp(texto)\n",
        "    sentimientos_aspectos = {}\n",
        "    for aspecto in aspectos_clave:\n",
        "        for token in doc:\n",
        "            if token.text.lower() in aspecto:\n",
        "                # Encuentra la frase nominal más cercana al aspecto\n",
        "                frase_nominal = token.head\n",
        "                while frase_nominal.dep_ != \"ROOT\" and frase_nominal.pos_ != \"NOUN\":\n",
        "                    frase_nominal = frase_nominal.head\n",
        "\n",
        "                # Analiza el sentimiento de la frase nominal\n",
        "                sentimiento = TextBlob(frase_nominal.text).sentiment.polarity\n",
        "                sentimientos_aspectos[aspecto] = sentimiento\n",
        "    return sentimientos_aspectos\n",
        "\n",
        "sample_df['sentimiento_aspectos'] = sample_df['processed_string'].apply(analizar_sentimiento_aspectos)\n",
        "print(\"\\n--- Sentimiento por Aspectos:\")\n",
        "print(sample_df[['processed_string', 'sentimiento_aspectos']].head(10))\n"
      ],
      "metadata": {
        "colab": {
          "base_uri": "https://localhost:8080/"
        },
        "id": "5x-xQZAgjFqq",
        "outputId": "c64f9d1c-60d0-49f7-9920-6b103b799110"
      },
      "execution_count": 7,
      "outputs": [
        {
          "output_type": "stream",
          "name": "stdout",
          "text": [
            "\n",
            "--- Sentimiento por Aspectos:\n",
            "                      processed_string     sentimiento_aspectos\n",
            "0                      weather extreme                       {}\n",
            "1                      weather extreme                       {}\n",
            "2                      weather extreme                       {}\n",
            "3                      weather extreme                       {}\n",
            "4        importance human intervantion                       {}\n",
            "5             seriousness gas emission        {'emission': 0.0}\n",
            "6  ideological position global warming  {'global warming': 0.0}\n",
            "7  ideological position global warming  {'global warming': 0.0}\n",
            "8                      weather extreme                       {}\n",
            "9                      weather extreme                       {}\n"
          ]
        },
        {
          "output_type": "stream",
          "name": "stderr",
          "text": [
            "<ipython-input-7-81eb161927da>:22: SettingWithCopyWarning: \n",
            "A value is trying to be set on a copy of a slice from a DataFrame.\n",
            "Try using .loc[row_indexer,col_indexer] = value instead\n",
            "\n",
            "See the caveats in the documentation: https://pandas.pydata.org/pandas-docs/stable/user_guide/indexing.html#returning-a-view-versus-a-copy\n",
            "  sample_df['sentimiento_aspectos'] = sample_df['processed_string'].apply(analizar_sentimiento_aspectos)\n"
          ]
        }
      ]
    },
    {
      "cell_type": "markdown",
      "source": [
        "**Interpretación**\n",
        "El análisis de sentimiento basado en aspectos nos permite obtener una visión más granular de las opiniones sobre diferentes aspectos del cambio climático.\n",
        "\n",
        "\n",
        "\n",
        "*   **\"Emission\"**: El sentimiento hacia \"emission\" es generalmente neutral o negativo, como se puede ver en el tweet \"Reducing gas emissions is crucial to combat climate change\" con una polaridad de 0.0. Esto sugiere que las personas son conscientes de la importancia de reducir las emisiones, pero también pueden expresar frustración o preocupación por la falta de acción.\n",
        "\n",
        "*   **\"Global warming\"**: El sentimiento hacia \"global warming\" también tiende a ser neutral o negativo, como se puede ver en el tweet \"The evidence for global warming is overwhelming\" con una polaridad de 0.0. Esto refleja la gravedad del problema y la preocupación generalizada.\n",
        "\n",
        "*   **\"Renewable energy\"**: El sentimiento hacia \"renewable energy\" es más positivo, como se observa en el tweet \"Investing in renewable energy is the key to a sustainable future\" con una polaridad positiva. Esto indica que las personas ven las energías renovables como una solución prometedora.\n",
        "\n",
        "\n"
      ],
      "metadata": {
        "id": "BRF1pJiybCCL"
      }
    },
    {
      "cell_type": "markdown",
      "source": [
        "**3.3. TF-IDF Vectorization**"
      ],
      "metadata": {
        "id": "pzPobSWfjPEf"
      }
    },
    {
      "cell_type": "code",
      "source": [
        "vectorizer = TfidfVectorizer(max_features=10)\n",
        "tfidf_matrix = vectorizer.fit_transform(sample_df['processed_string'])\n",
        "tfidf_feature_names = vectorizer.get_feature_names_out()\n",
        "\n",
        "print(\"\\n--- Términos más relevantes por TF-IDF:\")\n",
        "for i, tweet in enumerate(sample_df['processed_string'].head(10)):\n",
        "    print(f\"Tweet {i+1}:\")\n",
        "    print(list(zip(tfidf_feature_names, tfidf_matrix.toarray()[i])))"
      ],
      "metadata": {
        "colab": {
          "base_uri": "https://localhost:8080/"
        },
        "id": "UF5cJBvNi6mB",
        "outputId": "d0891473-fd97-4448-a500-f16d55e8793f"
      },
      "execution_count": 8,
      "outputs": [
        {
          "output_type": "stream",
          "name": "stdout",
          "text": [
            "\n",
            "--- Términos más relevantes por TF-IDF:\n",
            "Tweet 1:\n",
            "[('donald', 0.0), ('extreme', 0.7071067811865476), ('global', 0.0), ('human', 0.0), ('importance', 0.0), ('intervantion', 0.0), ('science', 0.0), ('stance', 0.0), ('warming', 0.0), ('weather', 0.7071067811865476)]\n",
            "Tweet 2:\n",
            "[('donald', 0.0), ('extreme', 0.7071067811865476), ('global', 0.0), ('human', 0.0), ('importance', 0.0), ('intervantion', 0.0), ('science', 0.0), ('stance', 0.0), ('warming', 0.0), ('weather', 0.7071067811865476)]\n",
            "Tweet 3:\n",
            "[('donald', 0.0), ('extreme', 0.7071067811865476), ('global', 0.0), ('human', 0.0), ('importance', 0.0), ('intervantion', 0.0), ('science', 0.0), ('stance', 0.0), ('warming', 0.0), ('weather', 0.7071067811865476)]\n",
            "Tweet 4:\n",
            "[('donald', 0.0), ('extreme', 0.7071067811865476), ('global', 0.0), ('human', 0.0), ('importance', 0.0), ('intervantion', 0.0), ('science', 0.0), ('stance', 0.0), ('warming', 0.0), ('weather', 0.7071067811865476)]\n",
            "Tweet 5:\n",
            "[('donald', 0.0), ('extreme', 0.0), ('global', 0.0), ('human', 0.5773502691896258), ('importance', 0.5773502691896258), ('intervantion', 0.5773502691896258), ('science', 0.0), ('stance', 0.0), ('warming', 0.0), ('weather', 0.0)]\n",
            "Tweet 6:\n",
            "[('donald', 0.0), ('extreme', 0.0), ('global', 0.0), ('human', 0.0), ('importance', 0.0), ('intervantion', 0.0), ('science', 0.0), ('stance', 0.0), ('warming', 0.0), ('weather', 0.0)]\n",
            "Tweet 7:\n",
            "[('donald', 0.0), ('extreme', 0.0), ('global', 0.4808724532450373), ('human', 0.0), ('importance', 0.0), ('intervantion', 0.0), ('science', 0.0), ('stance', 0.0), ('warming', 0.8767905586342153), ('weather', 0.0)]\n",
            "Tweet 8:\n",
            "[('donald', 0.0), ('extreme', 0.0), ('global', 0.4808724532450373), ('human', 0.0), ('importance', 0.0), ('intervantion', 0.0), ('science', 0.0), ('stance', 0.0), ('warming', 0.8767905586342153), ('weather', 0.0)]\n",
            "Tweet 9:\n",
            "[('donald', 0.0), ('extreme', 0.7071067811865476), ('global', 0.0), ('human', 0.0), ('importance', 0.0), ('intervantion', 0.0), ('science', 0.0), ('stance', 0.0), ('warming', 0.0), ('weather', 0.7071067811865476)]\n",
            "Tweet 10:\n",
            "[('donald', 0.0), ('extreme', 0.7071067811865476), ('global', 0.0), ('human', 0.0), ('importance', 0.0), ('intervantion', 0.0), ('science', 0.0), ('stance', 0.0), ('warming', 0.0), ('weather', 0.7071067811865476)]\n"
          ]
        }
      ]
    },
    {
      "cell_type": "markdown",
      "source": [
        "**Interpretación**\n",
        "Los resultados de TF-IDF nos muestran las palabras más relevantes en cada tweet y, en conjunto, nos dan una idea de los temas principales que se discuten en el dataset.\n",
        "\n",
        "*   **\"Extreme\" y \"weather\"**: Estas palabras tienen un alto valor de TF-IDF en varios tweets, lo que confirma que los eventos climáticos extremos son un tema central en la conversación sobre el cambio climático.\n",
        "*   **\"Importance\" y \"human\"**: La aparición frecuente de estas palabras con un alto valor de TF-IDF sugiere que la importancia de la acción humana en el cambio climático es otro tema recurrente.\n",
        "*   **\"Global warming\", \"emission\", \"pollution\"**: Estos términos indican la preocupación por las causas y consecuencias del cambio climático.\n",
        "\n",
        "*   **\"Donald Trump\"**: La aparición de \"Donald Trump\" en los resultados de TF-IDF es interesante. Podría indicar que las políticas o acciones del expresidente de Estados Unidos en relación al cambio climático fueron un tema de debate en el período de tiempo que abarca el dataset.\n",
        "\n",
        "**Palabras Sorprendentes:**\n",
        "Una palabra que me sorprende es \"ideological\". Su aparición en los resultados de TF-IDF sugiere que el cambio climático se está discutiendo no solo desde un punto de vista científico, sino también desde una perspectiva ideológica. Esto podría indicar que el tema está polarizado y que hay diferentes posturas ideológicas en torno a él."
      ],
      "metadata": {
        "id": "t_TLVfKUbM35"
      }
    },
    {
      "cell_type": "markdown",
      "source": [
        "# Interpretación\n",
        "El análisis de sentimiento y TF-IDF revelan tendencias interesantes en los tweets sobre cambio climático. El análisis de sentimiento general indica un tono predominantemente neutral o ligeramente negativo, especialmente en tweets relacionados con eventos climáticos extremos. El análisis de sentimiento basado en aspectos permite una visión más granular, mostrando el sentimiento asociado a palabras clave específicas. Por ejemplo, se observa que los tweets que mencionan \"emissions\" o \"global warming\" tienden a ser neutrales. Finalmente, el análisis TF-IDF confirma que \"extreme\" y \"weather\" son términos muy relevantes, lo que sugiere que los eventos climáticos extremos son un tema central en la conversación sobre el cambio climático. Además, la aparición frecuente de palabras como \"importance\" y \"human\" destaca la relevancia de la acción humana en el contexto del cambio climático.\n"
      ],
      "metadata": {
        "id": "JIe8p2zGbYvU"
      }
    },
    {
      "cell_type": "markdown",
      "source": [
        "# 5. Visualización de Resultados"
      ],
      "metadata": {
        "id": "wr5e4B-cb3W4"
      }
    },
    {
      "cell_type": "code",
      "source": [
        "import matplotlib.pyplot as plt\n",
        "from wordcloud import WordCloud\n",
        "import seaborn as sns"
      ],
      "metadata": {
        "id": "wO2nCrtEb99w"
      },
      "execution_count": 9,
      "outputs": []
    },
    {
      "cell_type": "markdown",
      "source": [
        "**5.1. Nube de Palabras**"
      ],
      "metadata": {
        "id": "4y38XCNYcIVZ"
      }
    },
    {
      "cell_type": "code",
      "source": [
        "texto_completo = \" \".join(sample_df['processed_string'])\n",
        "nube_palabras = WordCloud(width=800, height=400).generate(texto_completo)\n",
        "\n",
        "plt.figure(figsize=(10, 5))\n",
        "plt.imshow(nube_palabras, interpolation='bilinear')\n",
        "plt.axis(\"off\")\n",
        "plt.title(\"Nube de Palabras de Tweets sobre Cambio Climático\")\n",
        "plt.show()"
      ],
      "metadata": {
        "colab": {
          "base_uri": "https://localhost:8080/",
          "height": 444
        },
        "id": "6D7cRs7FcJsR",
        "outputId": "cca33178-3c96-4c5b-e9e9-c8edf31873fe"
      },
      "execution_count": 10,
      "outputs": [
        {
          "output_type": "display_data",
          "data": {
            "text/plain": [
              "<Figure size 1000x500 with 1 Axes>"
            ],
            "image/png": "[encoded data removed]"
          },
          "metadata": {}
        }
      ]
    },
    {
      "cell_type": "markdown",
      "source": [
        "**Interpretación**\n",
        "La nube de palabras muestra las palabras más frecuentes en los tweets sobre cambio climático después del preprocesamiento. Algunas observaciones:\n",
        "\"Weather\" y \"Extreme\" son las palabras más grandes, lo que indica que son muy frecuentes en los tweets. Esto refuerza la idea de que los eventos climáticos extremos son un tema central en la conversación sobre el cambio climático.\n",
        "\"Human\", \"Importance\", \"Intervention\" también aparecen con un tamaño considerable, lo que sugiere que la importancia de la acción humana en el cambio climático es otro tema relevante.\n",
        "\"Global\", \"Warming\", \"Emission\", \"Pollution\" son otros términos relevantes que indican la preocupación por las causas y consecuencias del cambio climático.\n",
        "\"Donald Trump\" aparece en la nube, lo que podría indicar que las políticas o acciones del expresidente de Estados Unidos en relación al cambio climático son un tema de debate."
      ],
      "metadata": {
        "id": "J1OMq7GEc5Ut"
      }
    },
    {
      "cell_type": "markdown",
      "source": [
        "**5.2. Gráfico de barras para la distribución de sentimientos**"
      ],
      "metadata": {
        "id": "qnPdRAYLcN3R"
      }
    },
    {
      "cell_type": "code",
      "source": [
        "# Crear la columna 'label'\n",
        "sample_df['label'] = sample_df['sentiment'].apply(lambda x: 1 if x.polarity > 0 else 0)\n",
        "\n",
        "# Crear el gráfico de barras\n",
        "plt.figure(figsize=(8, 6))\n",
        "sns.countplot(x='label', data=sample_df)\n",
        "plt.title('Distribución de Sentimientos')\n",
        "plt.xlabel('Sentimiento (0: Negativo/Neutral, 1: Positivo)')\n",
        "plt.ylabel('Cantidad de Tweets')\n",
        "plt.show()"
      ],
      "metadata": {
        "colab": {
          "base_uri": "https://localhost:8080/",
          "height": 668
        },
        "id": "FYjrAon1cQ04",
        "outputId": "1a5251f6-7374-4a57-fdaa-db36f528c1bb"
      },
      "execution_count": 11,
      "outputs": [
        {
          "output_type": "stream",
          "name": "stderr",
          "text": [
            "<ipython-input-11-952c42c23319>:2: SettingWithCopyWarning: \n",
            "A value is trying to be set on a copy of a slice from a DataFrame.\n",
            "Try using .loc[row_indexer,col_indexer] = value instead\n",
            "\n",
            "See the caveats in the documentation: https://pandas.pydata.org/pandas-docs/stable/user_guide/indexing.html#returning-a-view-versus-a-copy\n",
            "  sample_df['label'] = sample_df['sentiment'].apply(lambda x: 1 if x.polarity > 0 else 0)\n"
          ]
        },
        {
          "output_type": "display_data",
          "data": {
            "text/plain": [
              "<Figure size 800x600 with 1 Axes>"
            ],
            "image/png": "[encoded data removed]"
          },
          "metadata": {}
        }
      ]
    },
    {
      "cell_type": "markdown",
      "source": [
        "**Interpretación**\n",
        "El gráfico de barras muestra que la gran mayoría de los tweets tienen un sentimiento negativo o neutral (representado por el valor 0 en el eje x). Prácticamente no hay tweets con sentimiento positivo (valor 1)."
      ],
      "metadata": {
        "id": "FRnLjOHbc87B"
      }
    },
    {
      "cell_type": "markdown",
      "source": [
        "# Interpretación\n",
        "Tono General: El análisis de sentimiento y la visualización del gráfico de barras sugieren que el tono general de los tweets sobre cambio climático es más bien negativo o neutral.\n",
        "Temas Principales: La nube de palabras confirma que los eventos climáticos extremos, la importancia de la acción humana, y los aspectos globales del cambio climático (como las emisiones y la contaminación) son temas predominantes.\n",
        "Polarización: La casi ausencia de tweets con sentimiento positivo podría indicar una preocupación generalizada por el cambio climático y sus consecuencias."
      ],
      "metadata": {
        "id": "v5b7kPsxdEhn"
      }
    },
    {
      "cell_type": "markdown",
      "metadata": {
        "id": "u5tizqXKSpG8"
      },
      "source": [
        "# 6. Construcción de una Red Neuronal Simple"
      ]
    },
    {
      "cell_type": "markdown",
      "source": [
        "Se construye una red neuronal simple para clasificar el sentimiento de los tweets:"
      ],
      "metadata": {
        "id": "4-CmiDs6QhcY"
      }
    },
    {
      "cell_type": "code",
      "source": [
        "import pandas as pd\n",
        "import numpy as np\n",
        "import re\n",
        "from textblob import TextBlob\n",
        "import nltk\n",
        "from nltk.corpus import stopwords\n",
        "from nltk.tokenize import word_tokenize\n",
        "from nltk.stem import WordNetLemmatizer\n",
        "from tensorflow.keras.models import Sequential\n",
        "from tensorflow.keras.layers import Dense, Embedding, GlobalAveragePooling1D\n",
        "from tensorflow.keras.preprocessing.text import Tokenizer\n",
        "from tensorflow.keras.preprocessing.sequence import pad_sequences\n",
        "from sklearn.model_selection import train_test_split\n",
        "from sklearn.metrics import confusion_matrix\n",
        "import matplotlib.pyplot as plt\n",
        "import seaborn as sns\n",
        "\n",
        "# Descargar recursos de NLTK si no se han descargado ya\n",
        "nltk.download('punkt')\n",
        "nltk.download('stopwords')\n",
        "nltk.download('wordnet')\n",
        "\n",
        "# Inicializar recursos de NLTK\n",
        "stop_words = set(stopwords.words('english'))\n",
        "lemmatizer = WordNetLemmatizer()\n",
        "\n",
        "# Función de preprocesamiento optimizada\n",
        "def preprocess_text(text):\n",
        "    try:\n",
        "        # Tokenización\n",
        "        tokens = word_tokenize(text)\n",
        "        # Eliminar caracteres no alfabéticos con una expresión regular\n",
        "        alpha_tokens = [re.sub(r'[^a-zA-Z]', '', word) for word in tokens]\n",
        "        # Lematizar y filtrar stopwords\n",
        "        lemmatized_tokens = [lemmatizer.lemmatize(word.lower()) for word in alpha_tokens if word.lower() not in stop_words]\n",
        "        return lemmatized_tokens\n",
        "    except Exception as e:\n",
        "        print(f\"Error processing text: {text}\")\n",
        "        print(e)\n",
        "        return []\n",
        "\n",
        "# Tokenización de los textos\n",
        "tokenizer = Tokenizer(num_words=500)\n",
        "tokenizer.fit_on_texts(sample_df['processed_string'])\n",
        "sequences = tokenizer.texts_to_sequences(sample_df['processed_string'])\n",
        "word_index = tokenizer.word_index\n",
        "\n",
        "# Padding de las secuencias\n",
        "data = pad_sequences(sequences, maxlen=10)\n",
        "\n",
        "# Dividir el dataset\n",
        "x_train, x_test, y_train, y_test = train_test_split(data, sample_df['label'], test_size=0.2, random_state=42)\n",
        "\n",
        "# --- Construcción del modelo ---\n",
        "model = Sequential()\n",
        "model.add(Embedding(input_dim=500, output_dim=64, input_length=10))\n",
        "model.add(GlobalAveragePooling1D())\n",
        "model.add(Dense(32, activation='relu'))\n",
        "model.add(Dense(1, activation='sigmoid'))\n",
        "\n",
        "# Compilar el modelo\n",
        "model.compile(optimizer='adam', loss='binary_crossentropy', metrics=['accuracy'])\n",
        "\n",
        "# Entrenar el modelo\n",
        "model.fit(x_train, np.array(y_train), epochs=10, batch_size=32, validation_data=(x_test, np.array(y_test)))\n",
        "\n",
        "# --- Evaluación del modelo ---\n",
        "loss, accuracy = model.evaluate(x_test, np.array(y_test))\n",
        "print(f\"Accuracy: {accuracy:.2f}\")\n",
        "\n",
        "# --- Matriz de Confusión ---\n",
        "y_pred = model.predict(x_test)\n",
        "y_pred_classes = (y_pred > 0.5).astype(int) # Convertir probabilidades a clases (0 o 1)\n",
        "cm = confusion_matrix(y_test, y_pred_classes)\n",
        "print(\"\\nMatriz de Confusión:\")\n",
        "print(cm)\n",
        "\n",
        "# --- Visualizar la Matriz de Confusión ---\n",
        "plt.figure(figsize=(8, 6))\n",
        "sns.heatmap(cm, annot=True, fmt=\"d\")\n",
        "plt.title('Matriz de Confusión')\n",
        "plt.xlabel('Predicciones')\n",
        "plt.ylabel('Valores Reales')\n",
        "plt.show()"
      ],
      "metadata": {
        "colab": {
          "base_uri": "https://localhost:8080/",
          "height": 1000
        },
        "id": "r9FNKHyJ4Kwn",
        "outputId": "fddf606a-1476-4434-d2d6-8398e8b49c6f"
      },
      "execution_count": 12,
      "outputs": [
        {
          "output_type": "stream",
          "name": "stdout",
          "text": [
            "Epoch 1/10\n"
          ]
        },
        {
          "output_type": "stream",
          "name": "stderr",
          "text": [
            "[nltk_data] Downloading package punkt to /root/nltk_data...\n",
            "[nltk_data]   Package punkt is already up-to-date!\n",
            "[nltk_data] Downloading package stopwords to /root/nltk_data...\n",
            "[nltk_data]   Package stopwords is already up-to-date!\n",
            "[nltk_data] Downloading package wordnet to /root/nltk_data...\n",
            "[nltk_data]   Package wordnet is already up-to-date!\n",
            "/usr/local/lib/python3.10/dist-packages/keras/src/layers/core/embedding.py:90: UserWarning: Argument `input_length` is deprecated. Just remove it.\n",
            "  warnings.warn(\n"
          ]
        },
        {
          "output_type": "stream",
          "name": "stdout",
          "text": [
            "\u001b[1m3/3\u001b[0m \u001b[32m━━━━━━━━━━━━━━━━━━━━\u001b[0m\u001b[37m\u001b[0m \u001b[1m2s\u001b[0m 272ms/step - accuracy: 1.0000 - loss: 0.6596 - val_accuracy: 1.0000 - val_loss: 0.5785\n",
            "Epoch 2/10\n",
            "\u001b[1m3/3\u001b[0m \u001b[32m━━━━━━━━━━━━━━━━━━━━\u001b[0m\u001b[37m\u001b[0m \u001b[1m1s\u001b[0m 16ms/step - accuracy: 1.0000 - loss: 0.5596 - val_accuracy: 1.0000 - val_loss: 0.4849\n",
            "Epoch 3/10\n",
            "\u001b[1m3/3\u001b[0m \u001b[32m━━━━━━━━━━━━━━━━━━━━\u001b[0m\u001b[37m\u001b[0m \u001b[1m0s\u001b[0m 44ms/step - accuracy: 1.0000 - loss: 0.4641 - val_accuracy: 1.0000 - val_loss: 0.3948\n",
            "Epoch 4/10\n",
            "\u001b[1m3/3\u001b[0m \u001b[32m━━━━━━━━━━━━━━━━━━━━\u001b[0m\u001b[37m\u001b[0m \u001b[1m0s\u001b[0m 17ms/step - accuracy: 1.0000 - loss: 0.3746 - val_accuracy: 1.0000 - val_loss: 0.3111\n",
            "Epoch 5/10\n",
            "\u001b[1m3/3\u001b[0m \u001b[32m━━━━━━━━━━━━━━━━━━━━\u001b[0m\u001b[37m\u001b[0m \u001b[1m0s\u001b[0m 17ms/step - accuracy: 1.0000 - loss: 0.2927 - val_accuracy: 1.0000 - val_loss: 0.2378\n",
            "Epoch 6/10\n",
            "\u001b[1m3/3\u001b[0m \u001b[32m━━━━━━━━━━━━━━━━━━━━\u001b[0m\u001b[37m\u001b[0m \u001b[1m0s\u001b[0m 27ms/step - accuracy: 1.0000 - loss: 0.2197 - val_accuracy: 1.0000 - val_loss: 0.1772\n",
            "Epoch 7/10\n",
            "\u001b[1m3/3\u001b[0m \u001b[32m━━━━━━━━━━━━━━━━━━━━\u001b[0m\u001b[37m\u001b[0m \u001b[1m0s\u001b[0m 28ms/step - accuracy: 1.0000 - loss: 0.1615 - val_accuracy: 1.0000 - val_loss: 0.1293\n",
            "Epoch 8/10\n",
            "\u001b[1m3/3\u001b[0m \u001b[32m━━━━━━━━━━━━━━━━━━━━\u001b[0m\u001b[37m\u001b[0m \u001b[1m0s\u001b[0m 24ms/step - accuracy: 1.0000 - loss: 0.1165 - val_accuracy: 1.0000 - val_loss: 0.0932\n",
            "Epoch 9/10\n",
            "\u001b[1m3/3\u001b[0m \u001b[32m━━━━━━━━━━━━━━━━━━━━\u001b[0m\u001b[37m\u001b[0m \u001b[1m0s\u001b[0m 25ms/step - accuracy: 1.0000 - loss: 0.0822 - val_accuracy: 1.0000 - val_loss: 0.0671\n",
            "Epoch 10/10\n",
            "\u001b[1m3/3\u001b[0m \u001b[32m━━━━━━━━━━━━━━━━━━━━\u001b[0m\u001b[37m\u001b[0m \u001b[1m0s\u001b[0m 24ms/step - accuracy: 1.0000 - loss: 0.0588 - val_accuracy: 1.0000 - val_loss: 0.0486\n",
            "\u001b[1m1/1\u001b[0m \u001b[32m━━━━━━━━━━━━━━━━━━━━\u001b[0m\u001b[37m\u001b[0m \u001b[1m0s\u001b[0m 36ms/step - accuracy: 1.0000 - loss: 0.0486\n",
            "Accuracy: 1.00\n",
            "\u001b[1m1/1\u001b[0m \u001b[32m━━━━━━━━━━━━━━━━━━━━\u001b[0m\u001b[37m\u001b[0m \u001b[1m0s\u001b[0m 93ms/step\n",
            "\n",
            "Matriz de Confusión:\n",
            "[[20]]\n"
          ]
        },
        {
          "output_type": "display_data",
          "data": {
            "text/plain": [
              "<Figure size 800x600 with 2 Axes>"
            ],
            "image/png": "[encoded data removed]"
          },
          "metadata": {}
        }
      ]
    },
    {
      "cell_type": "markdown",
      "source": [
        "# Interpretación de los Resultados:\n",
        "**Accuracy:** La red neuronal simple logró una precisión del 100% en la clasificación de sentimiento. Sin embargo, es importante analizar la matriz de confusión para obtener una evaluación más completa del rendimiento del modelo.\n",
        "\n",
        "**Matriz de Confusión:** La matriz de confusión muestra que el modelo clasificó correctamente todos los tweets del conjunto de prueba. Todos los 20 tweets fueron correctamente clasificados como negativos o neutrales. Sin embargo, esto no significa necesariamente que el modelo sea perfecto.\n",
        "\n",
        "# Posibles Errores y Mejoras:\n",
        "**Sobreajuste (Overfitting)**: La precisión del 100% es sospechosamente alta, lo que sugiere que el modelo podría estar sobreajustado a los datos de entrenamiento. Esto significa que el modelo podría no generalizar bien a nuevos datos.\n",
        "\n",
        "**Desbalance de Clases:** El gráfico de barras del paso 4 mostró que hay muy pocos tweets con sentimiento positivo. Esto puede hacer que el modelo se incline a predecir la clase negativa/neutral con mayor frecuencia, lo que influye en la precisión."
      ],
      "metadata": {
        "id": "ZUbUwlPre9pF"
      }
    },
    {
      "cell_type": "markdown",
      "source": [
        "# Posibles soluciones para mejorar el rendimiento\n",
        "\n",
        "\n",
        "*   **Aumentar el Tamaño del Dataset:** Un dataset más grande y balanceado (con más ejemplos de tweets positivos) podría ayudar a entrenar un modelo más robusto y evitar el sobreajuste.\n",
        "*   **Ajustar Hiperparámetros:** Experimentar con diferentes valores para los hiperparámetros de la red neuronal (como el número de neuronas en las capas densas o el número de épocas de entrenamiento) podría mejorar la generalización del modelo.\n",
        "*  **Utilizar Técnicas de Regularización:** Técnicas como el dropout o la regularización L1/L2 pueden ayudar a prevenir el sobreajuste.\n",
        "\n",
        "\n",
        "\n",
        "\n",
        "\n",
        "\n"
      ],
      "metadata": {
        "id": "hWMWYGuo64sH"
      }
    },
    {
      "cell_type": "markdown",
      "source": [
        "# Arquitectura de la Red Neuronal:\n",
        "\n",
        "*   **Capa de Embedding:** Convierte las palabras en vectores densos de tamaño fijo.\n",
        "*   **Capa GlobalAveragePooling1D:** Reduce la dimensionalidad de los datos.\n",
        "*   **Capa Densa (32 neuronas, ReLU):** Capa oculta para aprender representaciones más complejas.\n",
        "*   **Capa Densa (1 neurona, Sigmoid):** Capa de salida para clasificación binaria (positivo/negativo).\n",
        "\n",
        "\n",
        "\n"
      ],
      "metadata": {
        "id": "D39LVPsQQuAJ"
      }
    },
    {
      "cell_type": "markdown",
      "source": [
        "# 7. Intento de Implementación de BERT\n"
      ],
      "metadata": {
        "id": "qin9V_6wfbC3"
      }
    },
    {
      "cell_type": "code",
      "source": [
        "!pip install transformers\n",
        "\n",
        "from transformers import BertTokenizer, TFBertForSequenceClassification\n",
        "import tensorflow as tf\n",
        "import matplotlib.pyplot as plt\n",
        "import seaborn as sns\n",
        "from sklearn.model_selection import train_test_split\n",
        "from sklearn.metrics import confusion_matrix\n",
        "import os"
      ],
      "metadata": {
        "colab": {
          "base_uri": "https://localhost:8080/"
        },
        "id": "cXfHh_orf5-E",
        "outputId": "b299a7ee-c50d-418c-e713-809b3ba44b85"
      },
      "execution_count": 13,
      "outputs": [
        {
          "output_type": "stream",
          "name": "stdout",
          "text": [
            "Requirement already satisfied: transformers in /usr/local/lib/python3.10/dist-packages (4.42.4)\n",
            "Requirement already satisfied: filelock in /usr/local/lib/python3.10/dist-packages (from transformers) (3.15.4)\n",
            "Requirement already satisfied: huggingface-hub<1.0,>=0.23.2 in /usr/local/lib/python3.10/dist-packages (from transformers) (0.23.5)\n",
            "Requirement already satisfied: numpy<2.0,>=1.17 in /usr/local/lib/python3.10/dist-packages (from transformers) (1.26.4)\n",
            "Requirement already satisfied: packaging>=20.0 in /usr/local/lib/python3.10/dist-packages (from transformers) (24.1)\n",
            "Requirement already satisfied: pyyaml>=5.1 in /usr/local/lib/python3.10/dist-packages (from transformers) (6.0.2)\n",
            "Requirement already satisfied: regex!=2019.12.17 in /usr/local/lib/python3.10/dist-packages (from transformers) (2024.5.15)\n",
            "Requirement already satisfied: requests in /usr/local/lib/python3.10/dist-packages (from transformers) (2.32.3)\n",
            "Requirement already satisfied: safetensors>=0.4.1 in /usr/local/lib/python3.10/dist-packages (from transformers) (0.4.4)\n",
            "Requirement already satisfied: tokenizers<0.20,>=0.19 in /usr/local/lib/python3.10/dist-packages (from transformers) (0.19.1)\n",
            "Requirement already satisfied: tqdm>=4.27 in /usr/local/lib/python3.10/dist-packages (from transformers) (4.66.5)\n",
            "Requirement already satisfied: fsspec>=2023.5.0 in /usr/local/lib/python3.10/dist-packages (from huggingface-hub<1.0,>=0.23.2->transformers) (2024.6.1)\n",
            "Requirement already satisfied: typing-extensions>=3.7.4.3 in /usr/local/lib/python3.10/dist-packages (from huggingface-hub<1.0,>=0.23.2->transformers) (4.12.2)\n",
            "Requirement already satisfied: charset-normalizer<4,>=2 in /usr/local/lib/python3.10/dist-packages (from requests->transformers) (3.3.2)\n",
            "Requirement already satisfied: idna<4,>=2.5 in /usr/local/lib/python3.10/dist-packages (from requests->transformers) (3.7)\n",
            "Requirement already satisfied: urllib3<3,>=1.21.1 in /usr/local/lib/python3.10/dist-packages (from requests->transformers) (2.0.7)\n",
            "Requirement already satisfied: certifi>=2017.4.17 in /usr/local/lib/python3.10/dist-packages (from requests->transformers) (2024.7.4)\n"
          ]
        }
      ]
    },
    {
      "cell_type": "markdown",
      "source": [
        "**7.1. Cargar Modelo y Tokenizador de BERT**\n"
      ],
      "metadata": {
        "id": "YfZ0r5jVgCfy"
      }
    },
    {
      "cell_type": "code",
      "source": [
        "modelo_nombre = \"bert-base-uncased\"\n",
        "tokenizer = BertTokenizer.from_pretrained(modelo_nombre)\n",
        "modelo = TFBertForSequenceClassification.from_pretrained(modelo_nombre)"
      ],
      "metadata": {
        "colab": {
          "base_uri": "https://localhost:8080/",
          "height": 371,
          "referenced_widgets": [
            "c03b6de98f67418993d0938e287a006e",
            "b45703a1f4cc4a3fbe0ec6be0bc40e6d",
            "e531ff0a0c8246179b71827b69f60319",
            "530853db5b674908b2c6737ab4f4053e",
            "fd27d2d294414eccaccac45a286ecf1c",
            "72d5238ae5344f3493088b44be22847b",
            "afd395785f7f4ce1963c67539eddb91c",
            "a005e77c66e94fa7ae4f74b2fea554ce",
            "7e8f57d97b704cb58e04a6c12837e9e9",
            "3b04bdc71262488ca9458791fa43058d",
            "ac249417796046df93960de5c0f6c0dc",
            "ebecd70ba4f846f8beded0dcc2b84b67",
            "3ce8c54693e74232a4d261e091c8637a",
            "2da9134a12cd45baabce0cf3df91e055",
            "5152f72b36dc456f97ba5191b4c5c540",
            "9d552801212c4933b9653e0d45377660",
            "e523032e73244f9ab7747a23b5968e77",
            "8bb31fc0a98842ad99c9b3eef5486fbd",
            "c835cb50e2bb4df2815b16410b65a86c",
            "168c4cfc6e154bc6a9ae113db126b6dc",
            "ec559dd3c7e741b9bc3dfd157f9659db",
            "c1569f766d62448aa2df74fe2b17d9ef",
            "e91ad5385680451ca823d898f684206e",
            "a987e4eadc9946228cc766894636914a",
            "6f0be97c793845528eb1af69b3624a4f",
            "28bcbc5ad76d4b0d938c9289ab4f6467",
            "c5d08c2b8e0d43a39e77013879469462",
            "3f2f1584833f4feb870ddb103d6ac0e0",
            "2b0930de987241e380dc208492588bd8",
            "e13cbb4ab1da4ee6bc4e66cc486dfcac",
            "c9f9b0b5bc2546ce8ed5e1ee7dd18e63",
            "c8bdc6b6c4774004b9bf51dd3ac37a5b",
            "c48bd438e2b54313937a3ca98a7d8b1e",
            "396ff82dcec4479491858a165524945e",
            "ce662c8cf05b4288b6c82fccaf0b3bf2",
            "1d99c3c4542c4dcfa4c162e5779a6cd1",
            "b7abc793bca04aec816af2ec06a5c553",
            "fc0760beef164102a9d675228ff2970b",
            "dbb2752d8f4445c6b7cb285cd599138c",
            "1f995834d8c744b384bea7e7f8e4da2d",
            "c8eead787b9b41f59e762c2e331cf564",
            "4df5ae0a89724cef9db3d7c5c90ad376",
            "28fc314d4aa640c7a8e82ff5c0ebb7f3",
            "694834aef59d48adaa9b3b5e5a187dcf",
            "471d4a4bec084d59a649006fe2b5a645",
            "ad2778c2b6154eaf908f391ff801dbe5",
            "88fe5a26569b4591ac6fdfd65227d88d",
            "5a3cb106b43443d082bb88ed4fc7c224",
            "da39025094b84cf7918ad007a887d816",
            "15017fdac45c4fbda109ab9398a8db65",
            "05801d0aeb754f989d5a130085858241",
            "3a58954082974cefa7224e07b3c54585",
            "710d39c3b1cf4b8db70462bb2c31b8b8",
            "aead339cdc974c76b1852217a1ee3875",
            "e4f2d4a5e5234a728b26d2208d192aea"
          ]
        },
        "id": "XUiYyDq5gGNB",
        "outputId": "f214ca74-fe79-45c5-ee03-9a0c59a6c5fd"
      },
      "execution_count": 14,
      "outputs": [
        {
          "output_type": "stream",
          "name": "stderr",
          "text": [
            "/usr/local/lib/python3.10/dist-packages/huggingface_hub/utils/_token.py:89: UserWarning: \n",
            "The secret `HF_TOKEN` does not exist in your Colab secrets.\n",
            "To authenticate with the Hugging Face Hub, create a token in your settings tab (https://huggingface.co/settings/tokens), set it as secret in your Google Colab and restart your session.\n",
            "You will be able to reuse this secret in all of your notebooks.\n",
            "Please note that authentication is recommended but still optional to access public models or datasets.\n",
            "  warnings.warn(\n"
          ]
        },
        {
          "output_type": "display_data",
          "data": {
            "text/plain": [
              "tokenizer_config.json:   0%|          | 0.00/48.0 [00:00<?, ?B/s]"
            ],
            "application/vnd.jupyter.widget-view+json": {
              "version_major": 2,
              "version_minor": 0,
              "model_id": "c03b6de98f67418993d0938e287a006e"
            }
          },
          "metadata": {}
        },
        {
          "output_type": "display_data",
          "data": {
            "text/plain": [
              "vocab.txt:   0%|          | 0.00/232k [00:00<?, ?B/s]"
            ],
            "application/vnd.jupyter.widget-view+json": {
              "version_major": 2,
              "version_minor": 0,
              "model_id": "ebecd70ba4f846f8beded0dcc2b84b67"
            }
          },
          "metadata": {}
        },
        {
          "output_type": "display_data",
          "data": {
            "text/plain": [
              "tokenizer.json:   0%|          | 0.00/466k [00:00<?, ?B/s]"
            ],
            "application/vnd.jupyter.widget-view+json": {
              "version_major": 2,
              "version_minor": 0,
              "model_id": "e91ad5385680451ca823d898f684206e"
            }
          },
          "metadata": {}
        },
        {
          "output_type": "display_data",
          "data": {
            "text/plain": [
              "config.json:   0%|          | 0.00/570 [00:00<?, ?B/s]"
            ],
            "application/vnd.jupyter.widget-view+json": {
              "version_major": 2,
              "version_minor": 0,
              "model_id": "396ff82dcec4479491858a165524945e"
            }
          },
          "metadata": {}
        },
        {
          "output_type": "display_data",
          "data": {
            "text/plain": [
              "model.safetensors:   0%|          | 0.00/440M [00:00<?, ?B/s]"
            ],
            "application/vnd.jupyter.widget-view+json": {
              "version_major": 2,
              "version_minor": 0,
              "model_id": "471d4a4bec084d59a649006fe2b5a645"
            }
          },
          "metadata": {}
        },
        {
          "output_type": "stream",
          "name": "stderr",
          "text": [
            "All PyTorch model weights were used when initializing TFBertForSequenceClassification.\n",
            "\n",
            "Some weights or buffers of the TF 2.0 model TFBertForSequenceClassification were not initialized from the PyTorch model and are newly initialized: ['classifier.weight', 'classifier.bias']\n",
            "You should probably TRAIN this model on a down-stream task to be able to use it for predictions and inference.\n"
          ]
        }
      ]
    },
    {
      "cell_type": "markdown",
      "source": [
        "**7.2. Tokenizar los Tweets con BERT**"
      ],
      "metadata": {
        "id": "kVlRiN07gLJa"
      }
    },
    {
      "cell_type": "code",
      "source": [
        "tokens = tokenizer.batch_encode_plus(\n",
        "    sample_df['processed_string'].tolist(),\n",
        "    add_special_tokens=True,\n",
        "    max_length=128,\n",
        "    truncation=True,\n",
        "    padding='max_length',\n",
        "    return_tensors='tf'\n",
        ")"
      ],
      "metadata": {
        "id": "a4BoSkiOgNcY"
      },
      "execution_count": 15,
      "outputs": []
    },
    {
      "cell_type": "markdown",
      "source": [
        "**7.3. Preparar Datos de Entrada**"
      ],
      "metadata": {
        "id": "z42BSPySgTVj"
      }
    },
    {
      "cell_type": "code",
      "source": [
        "input_ids = tokens['input_ids']\n",
        "attention_masks = tokens['attention_mask']"
      ],
      "metadata": {
        "id": "_jzWu3cTgVse"
      },
      "execution_count": 16,
      "outputs": []
    },
    {
      "cell_type": "markdown",
      "source": [
        "**7.4. Dividir el Dataset**"
      ],
      "metadata": {
        "id": "nlU2l0uUgb3q"
      }
    },
    {
      "cell_type": "code",
      "source": [
        "# Convertir tensores de TensorFlow a arrays de NumPy\n",
        "input_ids_np = input_ids.numpy()\n",
        "attention_masks_np = attention_masks.numpy()\n",
        "\n",
        "x_train, x_test, y_train, y_test = train_test_split(\n",
        "    input_ids_np, sample_df['label'], test_size=0.2, random_state=42\n",
        ")\n",
        "train_masks, test_masks, _, _ = train_test_split(\n",
        "    attention_masks_np, sample_df['label'], test_size=0.2, random_state=42\n",
        ")\n"
      ],
      "metadata": {
        "id": "DM1UcZv6gdLY"
      },
      "execution_count": 17,
      "outputs": []
    },
    {
      "cell_type": "markdown",
      "source": [
        "**7.5. Entrenar el Modelo BERT**"
      ],
      "metadata": {
        "id": "zfOM6I0ZhDj3"
      }
    },
    {
      "cell_type": "code",
      "source": [
        "os.environ[\"CUDA_VISIBLE_DEVICES\"]=\"-1\"  # <--- Desactivar GPU\n",
        "optimizer = tf.keras.optimizers.Adam(learning_rate=2e-5)\n",
        "loss = tf.keras.losses.SparseCategoricalCrossentropy(from_logits=True)\n",
        "metric = tf.keras.metrics.SparseCategoricalAccuracy('accuracy')\n",
        "modelo.compile(optimizer=optimizer, loss=loss, metrics=[metric])\n",
        "\n",
        "history = modelo.fit(\n",
        "    x={'input_ids': x_train, 'attention_mask': train_masks},\n",
        "    y=y_train,\n",
        "    validation_data=({'input_ids': x_test, 'attention_mask': test_masks}, y_test),\n",
        "    epochs=3,\n",
        "    batch_size=16\n",
        ")"
      ],
      "metadata": {
        "colab": {
          "base_uri": "https://localhost:8080/",
          "height": 356
        },
        "id": "56cKBSiHmOuB",
        "outputId": "6e97cdf2-390a-4880-86c9-530cb2a0d299"
      },
      "execution_count": 18,
      "outputs": [
        {
          "output_type": "error",
          "ename": "AttributeError",
          "evalue": "'Variable' object has no attribute '_distribute_strategy'",
          "traceback": [
            "\u001b[0;31m---------------------------------------------------------------------------\u001b[0m",
            "\u001b[0;31mAttributeError\u001b[0m                            Traceback (most recent call last)",
            "\u001b[0;32m<ipython-input-18-d6d109b0c7ca>\u001b[0m in \u001b[0;36m<cell line: 5>\u001b[0;34m()\u001b[0m\n\u001b[1;32m      3\u001b[0m \u001b[0mloss\u001b[0m \u001b[0;34m=\u001b[0m \u001b[0mtf\u001b[0m\u001b[0;34m.\u001b[0m\u001b[0mkeras\u001b[0m\u001b[0;34m.\u001b[0m\u001b[0mlosses\u001b[0m\u001b[0;34m.\u001b[0m\u001b[0mSparseCategoricalCrossentropy\u001b[0m\u001b[0;34m(\u001b[0m\u001b[0mfrom_logits\u001b[0m\u001b[0;34m=\u001b[0m\u001b[0;32mTrue\u001b[0m\u001b[0;34m)\u001b[0m\u001b[0;34m\u001b[0m\u001b[0;34m\u001b[0m\u001b[0m\n\u001b[1;32m      4\u001b[0m \u001b[0mmetric\u001b[0m \u001b[0;34m=\u001b[0m \u001b[0mtf\u001b[0m\u001b[0;34m.\u001b[0m\u001b[0mkeras\u001b[0m\u001b[0;34m.\u001b[0m\u001b[0mmetrics\u001b[0m\u001b[0;34m.\u001b[0m\u001b[0mSparseCategoricalAccuracy\u001b[0m\u001b[0;34m(\u001b[0m\u001b[0;34m'accuracy'\u001b[0m\u001b[0;34m)\u001b[0m\u001b[0;34m\u001b[0m\u001b[0;34m\u001b[0m\u001b[0m\n\u001b[0;32m----> 5\u001b[0;31m \u001b[0mmodelo\u001b[0m\u001b[0;34m.\u001b[0m\u001b[0mcompile\u001b[0m\u001b[0;34m(\u001b[0m\u001b[0moptimizer\u001b[0m\u001b[0;34m=\u001b[0m\u001b[0moptimizer\u001b[0m\u001b[0;34m,\u001b[0m \u001b[0mloss\u001b[0m\u001b[0;34m=\u001b[0m\u001b[0mloss\u001b[0m\u001b[0;34m,\u001b[0m \u001b[0mmetrics\u001b[0m\u001b[0;34m=\u001b[0m\u001b[0;34m[\u001b[0m\u001b[0mmetric\u001b[0m\u001b[0;34m]\u001b[0m\u001b[0;34m)\u001b[0m\u001b[0;34m\u001b[0m\u001b[0;34m\u001b[0m\u001b[0m\n\u001b[0m\u001b[1;32m      6\u001b[0m \u001b[0;34m\u001b[0m\u001b[0m\n\u001b[1;32m      7\u001b[0m history = modelo.fit(\n",
            "\u001b[0;32m/usr/local/lib/python3.10/dist-packages/transformers/modeling_tf_utils.py\u001b[0m in \u001b[0;36mcompile\u001b[0;34m(self, optimizer, loss, metrics, loss_weights, weighted_metrics, run_eagerly, steps_per_execution, **kwargs)\u001b[0m\n\u001b[1;32m   1561\u001b[0m         \u001b[0;31m# This argument got renamed, we need to support both versions\u001b[0m\u001b[0;34m\u001b[0m\u001b[0;34m\u001b[0m\u001b[0m\n\u001b[1;32m   1562\u001b[0m         \u001b[0;32mif\u001b[0m \u001b[0;34m\"steps_per_execution\"\u001b[0m \u001b[0;32min\u001b[0m \u001b[0mparent_args\u001b[0m\u001b[0;34m:\u001b[0m\u001b[0;34m\u001b[0m\u001b[0;34m\u001b[0m\u001b[0m\n\u001b[0;32m-> 1563\u001b[0;31m             super().compile(\n\u001b[0m\u001b[1;32m   1564\u001b[0m                 \u001b[0moptimizer\u001b[0m\u001b[0;34m=\u001b[0m\u001b[0moptimizer\u001b[0m\u001b[0;34m,\u001b[0m\u001b[0;34m\u001b[0m\u001b[0;34m\u001b[0m\u001b[0m\n\u001b[1;32m   1565\u001b[0m                 \u001b[0mloss\u001b[0m\u001b[0;34m=\u001b[0m\u001b[0mloss\u001b[0m\u001b[0;34m,\u001b[0m\u001b[0;34m\u001b[0m\u001b[0;34m\u001b[0m\u001b[0m\n",
            "\u001b[0;32m/usr/local/lib/python3.10/dist-packages/tf_keras/src/utils/traceback_utils.py\u001b[0m in \u001b[0;36merror_handler\u001b[0;34m(*args, **kwargs)\u001b[0m\n\u001b[1;32m     68\u001b[0m             \u001b[0;31m# To get the full stack trace, call:\u001b[0m\u001b[0;34m\u001b[0m\u001b[0;34m\u001b[0m\u001b[0m\n\u001b[1;32m     69\u001b[0m             \u001b[0;31m# `tf.debugging.disable_traceback_filtering()`\u001b[0m\u001b[0;34m\u001b[0m\u001b[0;34m\u001b[0m\u001b[0m\n\u001b[0;32m---> 70\u001b[0;31m             \u001b[0;32mraise\u001b[0m \u001b[0me\u001b[0m\u001b[0;34m.\u001b[0m\u001b[0mwith_traceback\u001b[0m\u001b[0;34m(\u001b[0m\u001b[0mfiltered_tb\u001b[0m\u001b[0;34m)\u001b[0m \u001b[0;32mfrom\u001b[0m \u001b[0;32mNone\u001b[0m\u001b[0;34m\u001b[0m\u001b[0;34m\u001b[0m\u001b[0m\n\u001b[0m\u001b[1;32m     71\u001b[0m         \u001b[0;32mfinally\u001b[0m\u001b[0;34m:\u001b[0m\u001b[0;34m\u001b[0m\u001b[0;34m\u001b[0m\u001b[0m\n\u001b[1;32m     72\u001b[0m             \u001b[0;32mdel\u001b[0m \u001b[0mfiltered_tb\u001b[0m\u001b[0;34m\u001b[0m\u001b[0;34m\u001b[0m\u001b[0m\n",
            "\u001b[0;32m/usr/local/lib/python3.10/dist-packages/tensorflow/python/distribute/distribute_lib.py\u001b[0m in \u001b[0;36mvariable_created_in_scope\u001b[0;34m(self, v)\u001b[0m\n\u001b[1;32m   4019\u001b[0m \u001b[0;34m\u001b[0m\u001b[0m\n\u001b[1;32m   4020\u001b[0m   \u001b[0;32mdef\u001b[0m \u001b[0mvariable_created_in_scope\u001b[0m\u001b[0;34m(\u001b[0m\u001b[0mself\u001b[0m\u001b[0;34m,\u001b[0m \u001b[0mv\u001b[0m\u001b[0;34m)\u001b[0m\u001b[0;34m:\u001b[0m\u001b[0;34m\u001b[0m\u001b[0;34m\u001b[0m\u001b[0m\n\u001b[0;32m-> 4021\u001b[0;31m     \u001b[0;32mreturn\u001b[0m \u001b[0mv\u001b[0m\u001b[0;34m.\u001b[0m\u001b[0m_distribute_strategy\u001b[0m \u001b[0;32mis\u001b[0m \u001b[0;32mNone\u001b[0m  \u001b[0;31m# pylint: disable=protected-access\u001b[0m\u001b[0;34m\u001b[0m\u001b[0;34m\u001b[0m\u001b[0m\n\u001b[0m\u001b[1;32m   4022\u001b[0m \u001b[0;34m\u001b[0m\u001b[0m\n\u001b[1;32m   4023\u001b[0m   \u001b[0;32mdef\u001b[0m \u001b[0m_experimental_distribute_dataset\u001b[0m\u001b[0;34m(\u001b[0m\u001b[0mself\u001b[0m\u001b[0;34m,\u001b[0m \u001b[0mdataset\u001b[0m\u001b[0;34m,\u001b[0m \u001b[0moptions\u001b[0m\u001b[0;34m)\u001b[0m\u001b[0;34m:\u001b[0m\u001b[0;34m\u001b[0m\u001b[0;34m\u001b[0m\u001b[0m\n",
            "\u001b[0;31mAttributeError\u001b[0m: 'Variable' object has no attribute '_distribute_strategy'"
          ]
        }
      ]
    },
    {
      "cell_type": "markdown",
      "source": [
        "Se intentó implementar una red neuronal con BERT para la clasificación de sentimientos, dado que BERT es un modelo de lenguaje pre-entrenado que ha demostrado un alto rendimiento en diversas tareas de NLP. Sin embargo, se encontraron problemas durante la implementación en Google Colab.\n",
        "\n",
        "**Problemas Encontrados:**\n",
        "\n",
        "*   **Errores de Distribución de TensorFlow:** Se presentaron errores relacionados con la configuración de distribución de TensorFlow en Colab, como el error AttributeError: 'Variable' object has no attribute '_distribute_strategy'.\n",
        "*   **Conflictos con la GPU:** Se intentaron diversas soluciones, como desactivar la GPU y forzar el uso de la CPU, pero el error persistió.\n",
        "\n",
        "**Posibles Causas y Soluciones Intentadas:**\n",
        "\n",
        "*   **Problemas de Compatibilidad:** Es posible que haya problemas de compatibilidad entre la versión de TensorFlow utilizada en Colab y la configuración de BERT.\n",
        "*   **Errores en la Implementación:** A pesar de revisar el código cuidadosamente, es posible que haya habido errores en la implementación de BERT.\n",
        "\n",
        "\n",
        "\n"
      ],
      "metadata": {
        "id": "KNWKJHWHn61o"
      }
    },
    {
      "cell_type": "markdown",
      "metadata": {
        "id": "dcOHKr7KSvwB"
      },
      "source": [
        "# Conclusiones"
      ]
    },
    {
      "cell_type": "markdown",
      "metadata": {
        "id": "bhZB2DePSxyx"
      },
      "source": [
        "Este trabajo aplicó técnicas de NLP para analizar el sentimiento en tweets sobre el cambio climático. El análisis de sentimiento general, el análisis por aspectos, y la vectorización TF-IDF proporcionaron información valiosa sobre las opiniones y los temas predominantes. La red neuronal simple logró una alta precisión, pero es posible que esté sobreajustada a los datos de entrenamiento. Se intentó implementar una red neuronal con BERT, pero se encontraron problemas con la configuración de distribución de TensorFlow en Google Colab."
      ]
    },
    {
      "cell_type": "markdown",
      "source": [
        "**Limitaciones del Proyecto:**\n",
        "\n",
        "*   **Tamaño del Dataset:** Un dataset más grande y balanceado podría mejorar la precisión y generalización de los modelos.\n",
        "*   **Falta de Implementación de BERT:** No se pudo implementar BERT debido a problemas técnicos.\n",
        "\n",
        "**Posibles Mejoras Futuras:**\n",
        "\n",
        "\n",
        "*   **Utilizar un Dataset Más Grande:** Recopilar más tweets sobre cambio climático.\n",
        "Explorar Modelos de Lenguaje Avanzados: Investigar y probar otros modelos de lenguaje pre-entrenados, como RoBERTa o XLNet.\n",
        "*   **Implementar BERT en un Entorno Local:** Configurar un entorno local para el entrenamiento de BERT podría evitar los problemas de distribución de TensorFlow en Colab.\n",
        "\n",
        "\n",
        "A pesar de las limitaciones, este proyecto demuestra la importancia del análisis de sentimiento para comprender las opiniones públicas sobre el cambio climático."
      ],
      "metadata": {
        "id": "2TIuYHhxoXiA"
      }
    }
  ],
  "metadata": {
    "colab": {
      "provenance": [],
      "authorship_tag": "ABX9TyOcTGGHEAw8mVAIB5jICbzG",
      "include_colab_link": true
    },
    "kernelspec": {
      "display_name": "Python 3",
      "name": "python3"
    },
    "language_info": {
      "name": "python"
    },
    "widgets": {
      "application/vnd.jupyter.widget-state+json": {
        "c03b6de98f67418993d0938e287a006e": {
          "model_module": "@jupyter-widgets/controls",
          "model_name": "HBoxModel",
          "model_module_version": "1.5.0",
          "state": {
            "_dom_classes": [],
            "_model_module": "@jupyter-widgets/controls",
            "_model_module_version": "1.5.0",
            "_model_name": "HBoxModel",
            "_view_count": null,
            "_view_module": "@jupyter-widgets/controls",
            "_view_module_version": "1.5.0",
            "_view_name": "HBoxView",
            "box_style": "",
            "children": [
              "IPY_MODEL_b45703a1f4cc4a3fbe0ec6be0bc40e6d",
              "IPY_MODEL_e531ff0a0c8246179b71827b69f60319",
              "IPY_MODEL_530853db5b674908b2c6737ab4f4053e"
            ],
            "layout": "IPY_MODEL_fd27d2d294414eccaccac45a286ecf1c"
          }
        },
        "b45703a1f4cc4a3fbe0ec6be0bc40e6d": {
          "model_module": "@jupyter-widgets/controls",
          "model_name": "HTMLModel",
          "model_module_version": "1.5.0",
          "state": {
            "_dom_classes": [],
            "_model_module": "@jupyter-widgets/controls",
            "_model_module_version": "1.5.0",
            "_model_name": "HTMLModel",
            "_view_count": null,
            "_view_module": "@jupyter-widgets/controls",
            "_view_module_version": "1.5.0",
            "_view_name": "HTMLView",
            "description": "",
            "description_tooltip": null,
            "layout": "IPY_MODEL_72d5238ae5344f3493088b44be22847b",
            "placeholder": "​",
            "style": "IPY_MODEL_afd395785f7f4ce1963c67539eddb91c",
            "value": "tokenizer_config.json: 100%"
          }
        },
        "e531ff0a0c8246179b71827b69f60319": {
          "model_module": "@jupyter-widgets/controls",
          "model_name": "FloatProgressModel",
          "model_module_version": "1.5.0",
          "state": {
            "_dom_classes": [],
            "_model_module": "@jupyter-widgets/controls",
            "_model_module_version": "1.5.0",
            "_model_name": "FloatProgressModel",
            "_view_count": null,
            "_view_module": "@jupyter-widgets/controls",
            "_view_module_version": "1.5.0",
            "_view_name": "ProgressView",
            "bar_style": "success",
            "description": "",
            "description_tooltip": null,
            "layout": "IPY_MODEL_a005e77c66e94fa7ae4f74b2fea554ce",
            "max": 48,
            "min": 0,
            "orientation": "horizontal",
            "style": "IPY_MODEL_7e8f57d97b704cb58e04a6c12837e9e9",
            "value": 48
          }
        },
        "530853db5b674908b2c6737ab4f4053e": {
          "model_module": "@jupyter-widgets/controls",
          "model_name": "HTMLModel",
          "model_module_version": "1.5.0",
          "state": {
            "_dom_classes": [],
            "_model_module": "@jupyter-widgets/controls",
            "_model_module_version": "1.5.0",
            "_model_name": "HTMLModel",
            "_view_count": null,
            "_view_module": "@jupyter-widgets/controls",
            "_view_module_version": "1.5.0",
            "_view_name": "HTMLView",
            "description": "",
            "description_tooltip": null,
            "layout": "IPY_MODEL_3b04bdc71262488ca9458791fa43058d",
            "placeholder": "​",
            "style": "IPY_MODEL_ac249417796046df93960de5c0f6c0dc",
            "value": " 48.0/48.0 [00:00&lt;00:00, 1.15kB/s]"
          }
        },
        "fd27d2d294414eccaccac45a286ecf1c": {
          "model_module": "@jupyter-widgets/base",
          "model_name": "LayoutModel",
          "model_module_version": "1.2.0",
          "state": {
            "_model_module": "@jupyter-widgets/base",
            "_model_module_version": "1.2.0",
            "_model_name": "LayoutModel",
            "_view_count": null,
            "_view_module": "@jupyter-widgets/base",
            "_view_module_version": "1.2.0",
            "_view_name": "LayoutView",
            "align_content": null,
            "align_items": null,
            "align_self": null,
            "border": null,
            "bottom": null,
            "display": null,
            "flex": null,
            "flex_flow": null,
            "grid_area": null,
            "grid_auto_columns": null,
            "grid_auto_flow": null,
            "grid_auto_rows": null,
            "grid_column": null,
            "grid_gap": null,
            "grid_row": null,
            "grid_template_areas": null,
            "grid_template_columns": null,
            "grid_template_rows": null,
            "height": null,
            "justify_content": null,
            "justify_items": null,
            "left": null,
            "margin": null,
            "max_height": null,
            "max_width": null,
            "min_height": null,
            "min_width": null,
            "object_fit": null,
            "object_position": null,
            "order": null,
            "overflow": null,
            "overflow_x": null,
            "overflow_y": null,
            "padding": null,
            "right": null,
            "top": null,
            "visibility": null,
            "width": null
          }
        },
        "72d5238ae5344f3493088b44be22847b": {
          "model_module": "@jupyter-widgets/base",
          "model_name": "LayoutModel",
          "model_module_version": "1.2.0",
          "state": {
            "_model_module": "@jupyter-widgets/base",
            "_model_module_version": "1.2.0",
            "_model_name": "LayoutModel",
            "_view_count": null,
            "_view_module": "@jupyter-widgets/base",
            "_view_module_version": "1.2.0",
            "_view_name": "LayoutView",
            "align_content": null,
            "align_items": null,
            "align_self": null,
            "border": null,
            "bottom": null,
            "display": null,
            "flex": null,
            "flex_flow": null,
            "grid_area": null,
            "grid_auto_columns": null,
            "grid_auto_flow": null,
            "grid_auto_rows": null,
            "grid_column": null,
            "grid_gap": null,
            "grid_row": null,
            "grid_template_areas": null,
            "grid_template_columns": null,
            "grid_template_rows": null,
            "height": null,
            "justify_content": null,
            "justify_items": null,
            "left": null,
            "margin": null,
            "max_height": null,
            "max_width": null,
            "min_height": null,
            "min_width": null,
            "object_fit": null,
            "object_position": null,
            "order": null,
            "overflow": null,
            "overflow_x": null,
            "overflow_y": null,
            "padding": null,
            "right": null,
            "top": null,
            "visibility": null,
            "width": null
          }
        },
        "afd395785f7f4ce1963c67539eddb91c": {
          "model_module": "@jupyter-widgets/controls",
          "model_name": "DescriptionStyleModel",
          "model_module_version": "1.5.0",
          "state": {
            "_model_module": "@jupyter-widgets/controls",
            "_model_module_version": "1.5.0",
            "_model_name": "DescriptionStyleModel",
            "_view_count": null,
            "_view_module": "@jupyter-widgets/base",
            "_view_module_version": "1.2.0",
            "_view_name": "StyleView",
            "description_width": ""
          }
        },
        "a005e77c66e94fa7ae4f74b2fea554ce": {
          "model_module": "@jupyter-widgets/base",
          "model_name": "LayoutModel",
          "model_module_version": "1.2.0",
          "state": {
            "_model_module": "@jupyter-widgets/base",
            "_model_module_version": "1.2.0",
            "_model_name": "LayoutModel",
            "_view_count": null,
            "_view_module": "@jupyter-widgets/base",
            "_view_module_version": "1.2.0",
            "_view_name": "LayoutView",
            "align_content": null,
            "align_items": null,
            "align_self": null,
            "border": null,
            "bottom": null,
            "display": null,
            "flex": null,
            "flex_flow": null,
            "grid_area": null,
            "grid_auto_columns": null,
            "grid_auto_flow": null,
            "grid_auto_rows": null,
            "grid_column": null,
            "grid_gap": null,
            "grid_row": null,
            "grid_template_areas": null,
            "grid_template_columns": null,
            "grid_template_rows": null,
            "height": null,
            "justify_content": null,
            "justify_items": null,
            "left": null,
            "margin": null,
            "max_height": null,
            "max_width": null,
            "min_height": null,
            "min_width": null,
            "object_fit": null,
            "object_position": null,
            "order": null,
            "overflow": null,
            "overflow_x": null,
            "overflow_y": null,
            "padding": null,
            "right": null,
            "top": null,
            "visibility": null,
            "width": null
          }
        },
        "7e8f57d97b704cb58e04a6c12837e9e9": {
          "model_module": "@jupyter-widgets/controls",
          "model_name": "ProgressStyleModel",
          "model_module_version": "1.5.0",
          "state": {
            "_model_module": "@jupyter-widgets/controls",
            "_model_module_version": "1.5.0",
            "_model_name": "ProgressStyleModel",
            "_view_count": null,
            "_view_module": "@jupyter-widgets/base",
            "_view_module_version": "1.2.0",
            "_view_name": "StyleView",
            "bar_color": null,
            "description_width": ""
          }
        },
        "3b04bdc71262488ca9458791fa43058d": {
          "model_module": "@jupyter-widgets/base",
          "model_name": "LayoutModel",
          "model_module_version": "1.2.0",
          "state": {
            "_model_module": "@jupyter-widgets/base",
            "_model_module_version": "1.2.0",
            "_model_name": "LayoutModel",
            "_view_count": null,
            "_view_module": "@jupyter-widgets/base",
            "_view_module_version": "1.2.0",
            "_view_name": "LayoutView",
            "align_content": null,
            "align_items": null,
            "align_self": null,
            "border": null,
            "bottom": null,
            "display": null,
            "flex": null,
            "flex_flow": null,
            "grid_area": null,
            "grid_auto_columns": null,
            "grid_auto_flow": null,
            "grid_auto_rows": null,
            "grid_column": null,
            "grid_gap": null,
            "grid_row": null,
            "grid_template_areas": null,
            "grid_template_columns": null,
            "grid_template_rows": null,
            "height": null,
            "justify_content": null,
            "justify_items": null,
            "left": null,
            "margin": null,
            "max_height": null,
            "max_width": null,
            "min_height": null,
            "min_width": null,
            "object_fit": null,
            "object_position": null,
            "order": null,
            "overflow": null,
            "overflow_x": null,
            "overflow_y": null,
            "padding": null,
            "right": null,
            "top": null,
            "visibility": null,
            "width": null
          }
        },
        "ac249417796046df93960de5c0f6c0dc": {
          "model_module": "@jupyter-widgets/controls",
          "model_name": "DescriptionStyleModel",
          "model_module_version": "1.5.0",
          "state": {
            "_model_module": "@jupyter-widgets/controls",
            "_model_module_version": "1.5.0",
            "_model_name": "DescriptionStyleModel",
            "_view_count": null,
            "_view_module": "@jupyter-widgets/base",
            "_view_module_version": "1.2.0",
            "_view_name": "StyleView",
            "description_width": ""
          }
        },
        "ebecd70ba4f846f8beded0dcc2b84b67": {
          "model_module": "@jupyter-widgets/controls",
          "model_name": "HBoxModel",
          "model_module_version": "1.5.0",
          "state": {
            "_dom_classes": [],
            "_model_module": "@jupyter-widgets/controls",
            "_model_module_version": "1.5.0",
            "_model_name": "HBoxModel",
            "_view_count": null,
            "_view_module": "@jupyter-widgets/controls",
            "_view_module_version": "1.5.0",
            "_view_name": "HBoxView",
            "box_style": "",
            "children": [
              "IPY_MODEL_3ce8c54693e74232a4d261e091c8637a",
              "IPY_MODEL_2da9134a12cd45baabce0cf3df91e055",
              "IPY_MODEL_5152f72b36dc456f97ba5191b4c5c540"
            ],
            "layout": "IPY_MODEL_9d552801212c4933b9653e0d45377660"
          }
        },
        "3ce8c54693e74232a4d261e091c8637a": {
          "model_module": "@jupyter-widgets/controls",
          "model_name": "HTMLModel",
          "model_module_version": "1.5.0",
          "state": {
            "_dom_classes": [],
            "_model_module": "@jupyter-widgets/controls",
            "_model_module_version": "1.5.0",
            "_model_name": "HTMLModel",
            "_view_count": null,
            "_view_module": "@jupyter-widgets/controls",
            "_view_module_version": "1.5.0",
            "_view_name": "HTMLView",
            "description": "",
            "description_tooltip": null,
            "layout": "IPY_MODEL_e523032e73244f9ab7747a23b5968e77",
            "placeholder": "​",
            "style": "IPY_MODEL_8bb31fc0a98842ad99c9b3eef5486fbd",
            "value": "vocab.txt: 100%"
          }
        },
        "2da9134a12cd45baabce0cf3df91e055": {
          "model_module": "@jupyter-widgets/controls",
          "model_name": "FloatProgressModel",
          "model_module_version": "1.5.0",
          "state": {
            "_dom_classes": [],
            "_model_module": "@jupyter-widgets/controls",
            "_model_module_version": "1.5.0",
            "_model_name": "FloatProgressModel",
            "_view_count": null,
            "_view_module": "@jupyter-widgets/controls",
            "_view_module_version": "1.5.0",
            "_view_name": "ProgressView",
            "bar_style": "success",
            "description": "",
            "description_tooltip": null,
            "layout": "IPY_MODEL_c835cb50e2bb4df2815b16410b65a86c",
            "max": 231508,
            "min": 0,
            "orientation": "horizontal",
            "style": "IPY_MODEL_168c4cfc6e154bc6a9ae113db126b6dc",
            "value": 231508
          }
        },
        "5152f72b36dc456f97ba5191b4c5c540": {
          "model_module": "@jupyter-widgets/controls",
          "model_name": "HTMLModel",
          "model_module_version": "1.5.0",
          "state": {
            "_dom_classes": [],
            "_model_module": "@jupyter-widgets/controls",
            "_model_module_version": "1.5.0",
            "_model_name": "HTMLModel",
            "_view_count": null,
            "_view_module": "@jupyter-widgets/controls",
            "_view_module_version": "1.5.0",
            "_view_name": "HTMLView",
            "description": "",
            "description_tooltip": null,
            "layout": "IPY_MODEL_ec559dd3c7e741b9bc3dfd157f9659db",
            "placeholder": "​",
            "style": "IPY_MODEL_c1569f766d62448aa2df74fe2b17d9ef",
            "value": " 232k/232k [00:00&lt;00:00, 2.66MB/s]"
          }
        },
        "9d552801212c4933b9653e0d45377660": {
          "model_module": "@jupyter-widgets/base",
          "model_name": "LayoutModel",
          "model_module_version": "1.2.0",
          "state": {
            "_model_module": "@jupyter-widgets/base",
            "_model_module_version": "1.2.0",
            "_model_name": "LayoutModel",
            "_view_count": null,
            "_view_module": "@jupyter-widgets/base",
            "_view_module_version": "1.2.0",
            "_view_name": "LayoutView",
            "align_content": null,
            "align_items": null,
            "align_self": null,
            "border": null,
            "bottom": null,
            "display": null,
            "flex": null,
            "flex_flow": null,
            "grid_area": null,
            "grid_auto_columns": null,
            "grid_auto_flow": null,
            "grid_auto_rows": null,
            "grid_column": null,
            "grid_gap": null,
            "grid_row": null,
            "grid_template_areas": null,
            "grid_template_columns": null,
            "grid_template_rows": null,
            "height": null,
            "justify_content": null,
            "justify_items": null,
            "left": null,
            "margin": null,
            "max_height": null,
            "max_width": null,
            "min_height": null,
            "min_width": null,
            "object_fit": null,
            "object_position": null,
            "order": null,
            "overflow": null,
            "overflow_x": null,
            "overflow_y": null,
            "padding": null,
            "right": null,
            "top": null,
            "visibility": null,
            "width": null
          }
        },
        "e523032e73244f9ab7747a23b5968e77": {
          "model_module": "@jupyter-widgets/base",
          "model_name": "LayoutModel",
          "model_module_version": "1.2.0",
          "state": {
            "_model_module": "@jupyter-widgets/base",
            "_model_module_version": "1.2.0",
            "_model_name": "LayoutModel",
            "_view_count": null,
            "_view_module": "@jupyter-widgets/base",
            "_view_module_version": "1.2.0",
            "_view_name": "LayoutView",
            "align_content": null,
            "align_items": null,
            "align_self": null,
            "border": null,
            "bottom": null,
            "display": null,
            "flex": null,
            "flex_flow": null,
            "grid_area": null,
            "grid_auto_columns": null,
            "grid_auto_flow": null,
            "grid_auto_rows": null,
            "grid_column": null,
            "grid_gap": null,
            "grid_row": null,
            "grid_template_areas": null,
            "grid_template_columns": null,
            "grid_template_rows": null,
            "height": null,
            "justify_content": null,
            "justify_items": null,
            "left": null,
            "margin": null,
            "max_height": null,
            "max_width": null,
            "min_height": null,
            "min_width": null,
            "object_fit": null,
            "object_position": null,
            "order": null,
            "overflow": null,
            "overflow_x": null,
            "overflow_y": null,
            "padding": null,
            "right": null,
            "top": null,
            "visibility": null,
            "width": null
          }
        },
        "8bb31fc0a98842ad99c9b3eef5486fbd": {
          "model_module": "@jupyter-widgets/controls",
          "model_name": "DescriptionStyleModel",
          "model_module_version": "1.5.0",
          "state": {
            "_model_module": "@jupyter-widgets/controls",
            "_model_module_version": "1.5.0",
            "_model_name": "DescriptionStyleModel",
            "_view_count": null,
            "_view_module": "@jupyter-widgets/base",
            "_view_module_version": "1.2.0",
            "_view_name": "StyleView",
            "description_width": ""
          }
        },
        "c835cb50e2bb4df2815b16410b65a86c": {
          "model_module": "@jupyter-widgets/base",
          "model_name": "LayoutModel",
          "model_module_version": "1.2.0",
          "state": {
            "_model_module": "@jupyter-widgets/base",
            "_model_module_version": "1.2.0",
            "_model_name": "LayoutModel",
            "_view_count": null,
            "_view_module": "@jupyter-widgets/base",
            "_view_module_version": "1.2.0",
            "_view_name": "LayoutView",
            "align_content": null,
            "align_items": null,
            "align_self": null,
            "border": null,
            "bottom": null,
            "display": null,
            "flex": null,
            "flex_flow": null,
            "grid_area": null,
            "grid_auto_columns": null,
            "grid_auto_flow": null,
            "grid_auto_rows": null,
            "grid_column": null,
            "grid_gap": null,
            "grid_row": null,
            "grid_template_areas": null,
            "grid_template_columns": null,
            "grid_template_rows": null,
            "height": null,
            "justify_content": null,
            "justify_items": null,
            "left": null,
            "margin": null,
            "max_height": null,
            "max_width": null,
            "min_height": null,
            "min_width": null,
            "object_fit": null,
            "object_position": null,
            "order": null,
            "overflow": null,
            "overflow_x": null,
            "overflow_y": null,
            "padding": null,
            "right": null,
            "top": null,
            "visibility": null,
            "width": null
          }
        },
        "168c4cfc6e154bc6a9ae113db126b6dc": {
          "model_module": "@jupyter-widgets/controls",
          "model_name": "ProgressStyleModel",
          "model_module_version": "1.5.0",
          "state": {
            "_model_module": "@jupyter-widgets/controls",
            "_model_module_version": "1.5.0",
            "_model_name": "ProgressStyleModel",
            "_view_count": null,
            "_view_module": "@jupyter-widgets/base",
            "_view_module_version": "1.2.0",
            "_view_name": "StyleView",
            "bar_color": null,
            "description_width": ""
          }
        },
        "ec559dd3c7e741b9bc3dfd157f9659db": {
          "model_module": "@jupyter-widgets/base",
          "model_name": "LayoutModel",
          "model_module_version": "1.2.0",
          "state": {
            "_model_module": "@jupyter-widgets/base",
            "_model_module_version": "1.2.0",
            "_model_name": "LayoutModel",
            "_view_count": null,
            "_view_module": "@jupyter-widgets/base",
            "_view_module_version": "1.2.0",
            "_view_name": "LayoutView",
            "align_content": null,
            "align_items": null,
            "align_self": null,
            "border": null,
            "bottom": null,
            "display": null,
            "flex": null,
            "flex_flow": null,
            "grid_area": null,
            "grid_auto_columns": null,
            "grid_auto_flow": null,
            "grid_auto_rows": null,
            "grid_column": null,
            "grid_gap": null,
            "grid_row": null,
            "grid_template_areas": null,
            "grid_template_columns": null,
            "grid_template_rows": null,
            "height": null,
            "justify_content": null,
            "justify_items": null,
            "left": null,
            "margin": null,
            "max_height": null,
            "max_width": null,
            "min_height": null,
            "min_width": null,
            "object_fit": null,
            "object_position": null,
            "order": null,
            "overflow": null,
            "overflow_x": null,
            "overflow_y": null,
            "padding": null,
            "right": null,
            "top": null,
            "visibility": null,
            "width": null
          }
        },
        "c1569f766d62448aa2df74fe2b17d9ef": {
          "model_module": "@jupyter-widgets/controls",
          "model_name": "DescriptionStyleModel",
          "model_module_version": "1.5.0",
          "state": {
            "_model_module": "@jupyter-widgets/controls",
            "_model_module_version": "1.5.0",
            "_model_name": "DescriptionStyleModel",
            "_view_count": null,
            "_view_module": "@jupyter-widgets/base",
            "_view_module_version": "1.2.0",
            "_view_name": "StyleView",
            "description_width": ""
          }
        },
        "e91ad5385680451ca823d898f684206e": {
          "model_module": "@jupyter-widgets/controls",
          "model_name": "HBoxModel",
          "model_module_version": "1.5.0",
          "state": {
            "_dom_classes": [],
            "_model_module": "@jupyter-widgets/controls",
            "_model_module_version": "1.5.0",
            "_model_name": "HBoxModel",
            "_view_count": null,
            "_view_module": "@jupyter-widgets/controls",
            "_view_module_version": "1.5.0",
            "_view_name": "HBoxView",
            "box_style": "",
            "children": [
              "IPY_MODEL_a987e4eadc9946228cc766894636914a",
              "IPY_MODEL_6f0be97c793845528eb1af69b3624a4f",
              "IPY_MODEL_28bcbc5ad76d4b0d938c9289ab4f6467"
            ],
            "layout": "IPY_MODEL_c5d08c2b8e0d43a39e77013879469462"
          }
        },
        "a987e4eadc9946228cc766894636914a": {
          "model_module": "@jupyter-widgets/controls",
          "model_name": "HTMLModel",
          "model_module_version": "1.5.0",
          "state": {
            "_dom_classes": [],
            "_model_module": "@jupyter-widgets/controls",
            "_model_module_version": "1.5.0",
            "_model_name": "HTMLModel",
            "_view_count": null,
            "_view_module": "@jupyter-widgets/controls",
            "_view_module_version": "1.5.0",
            "_view_name": "HTMLView",
            "description": "",
            "description_tooltip": null,
            "layout": "IPY_MODEL_3f2f1584833f4feb870ddb103d6ac0e0",
            "placeholder": "​",
            "style": "IPY_MODEL_2b0930de987241e380dc208492588bd8",
            "value": "tokenizer.json: 100%"
          }
        },
        "6f0be97c793845528eb1af69b3624a4f": {
          "model_module": "@jupyter-widgets/controls",
          "model_name": "FloatProgressModel",
          "model_module_version": "1.5.0",
          "state": {
            "_dom_classes": [],
            "_model_module": "@jupyter-widgets/controls",
            "_model_module_version": "1.5.0",
            "_model_name": "FloatProgressModel",
            "_view_count": null,
            "_view_module": "@jupyter-widgets/controls",
            "_view_module_version": "1.5.0",
            "_view_name": "ProgressView",
            "bar_style": "success",
            "description": "",
            "description_tooltip": null,
            "layout": "IPY_MODEL_e13cbb4ab1da4ee6bc4e66cc486dfcac",
            "max": 466062,
            "min": 0,
            "orientation": "horizontal",
            "style": "IPY_MODEL_c9f9b0b5bc2546ce8ed5e1ee7dd18e63",
            "value": 466062
          }
        },
        "28bcbc5ad76d4b0d938c9289ab4f6467": {
          "model_module": "@jupyter-widgets/controls",
          "model_name": "HTMLModel",
          "model_module_version": "1.5.0",
          "state": {
            "_dom_classes": [],
            "_model_module": "@jupyter-widgets/controls",
            "_model_module_version": "1.5.0",
            "_model_name": "HTMLModel",
            "_view_count": null,
            "_view_module": "@jupyter-widgets/controls",
            "_view_module_version": "1.5.0",
            "_view_name": "HTMLView",
            "description": "",
            "description_tooltip": null,
            "layout": "IPY_MODEL_c8bdc6b6c4774004b9bf51dd3ac37a5b",
            "placeholder": "​",
            "style": "IPY_MODEL_c48bd438e2b54313937a3ca98a7d8b1e",
            "value": " 466k/466k [00:00&lt;00:00, 3.51MB/s]"
          }
        },
        "c5d08c2b8e0d43a39e77013879469462": {
          "model_module": "@jupyter-widgets/base",
          "model_name": "LayoutModel",
          "model_module_version": "1.2.0",
          "state": {
            "_model_module": "@jupyter-widgets/base",
            "_model_module_version": "1.2.0",
            "_model_name": "LayoutModel",
            "_view_count": null,
            "_view_module": "@jupyter-widgets/base",
            "_view_module_version": "1.2.0",
            "_view_name": "LayoutView",
            "align_content": null,
            "align_items": null,
            "align_self": null,
            "border": null,
            "bottom": null,
            "display": null,
            "flex": null,
            "flex_flow": null,
            "grid_area": null,
            "grid_auto_columns": null,
            "grid_auto_flow": null,
            "grid_auto_rows": null,
            "grid_column": null,
            "grid_gap": null,
            "grid_row": null,
            "grid_template_areas": null,
            "grid_template_columns": null,
            "grid_template_rows": null,
            "height": null,
            "justify_content": null,
            "justify_items": null,
            "left": null,
            "margin": null,
            "max_height": null,
            "max_width": null,
            "min_height": null,
            "min_width": null,
            "object_fit": null,
            "object_position": null,
            "order": null,
            "overflow": null,
            "overflow_x": null,
            "overflow_y": null,
            "padding": null,
            "right": null,
            "top": null,
            "visibility": null,
            "width": null
          }
        },
        "3f2f1584833f4feb870ddb103d6ac0e0": {
          "model_module": "@jupyter-widgets/base",
          "model_name": "LayoutModel",
          "model_module_version": "1.2.0",
          "state": {
            "_model_module": "@jupyter-widgets/base",
            "_model_module_version": "1.2.0",
            "_model_name": "LayoutModel",
            "_view_count": null,
            "_view_module": "@jupyter-widgets/base",
            "_view_module_version": "1.2.0",
            "_view_name": "LayoutView",
            "align_content": null,
            "align_items": null,
            "align_self": null,
            "border": null,
            "bottom": null,
            "display": null,
            "flex": null,
            "flex_flow": null,
            "grid_area": null,
            "grid_auto_columns": null,
            "grid_auto_flow": null,
            "grid_auto_rows": null,
            "grid_column": null,
            "grid_gap": null,
            "grid_row": null,
            "grid_template_areas": null,
            "grid_template_columns": null,
            "grid_template_rows": null,
            "height": null,
            "justify_content": null,
            "justify_items": null,
            "left": null,
            "margin": null,
            "max_height": null,
            "max_width": null,
            "min_height": null,
            "min_width": null,
            "object_fit": null,
            "object_position": null,
            "order": null,
            "overflow": null,
            "overflow_x": null,
            "overflow_y": null,
            "padding": null,
            "right": null,
            "top": null,
            "visibility": null,
            "width": null
          }
        },
        "2b0930de987241e380dc208492588bd8": {
          "model_module": "@jupyter-widgets/controls",
          "model_name": "DescriptionStyleModel",
          "model_module_version": "1.5.0",
          "state": {
            "_model_module": "@jupyter-widgets/controls",
            "_model_module_version": "1.5.0",
            "_model_name": "DescriptionStyleModel",
            "_view_count": null,
            "_view_module": "@jupyter-widgets/base",
            "_view_module_version": "1.2.0",
            "_view_name": "StyleView",
            "description_width": ""
          }
        },
        "e13cbb4ab1da4ee6bc4e66cc486dfcac": {
          "model_module": "@jupyter-widgets/base",
          "model_name": "LayoutModel",
          "model_module_version": "1.2.0",
          "state": {
            "_model_module": "@jupyter-widgets/base",
            "_model_module_version": "1.2.0",
            "_model_name": "LayoutModel",
            "_view_count": null,
            "_view_module": "@jupyter-widgets/base",
            "_view_module_version": "1.2.0",
            "_view_name": "LayoutView",
            "align_content": null,
            "align_items": null,
            "align_self": null,
            "border": null,
            "bottom": null,
            "display": null,
            "flex": null,
            "flex_flow": null,
            "grid_area": null,
            "grid_auto_columns": null,
            "grid_auto_flow": null,
            "grid_auto_rows": null,
            "grid_column": null,
            "grid_gap": null,
            "grid_row": null,
            "grid_template_areas": null,
            "grid_template_columns": null,
            "grid_template_rows": null,
            "height": null,
            "justify_content": null,
            "justify_items": null,
            "left": null,
            "margin": null,
            "max_height": null,
            "max_width": null,
            "min_height": null,
            "min_width": null,
            "object_fit": null,
            "object_position": null,
            "order": null,
            "overflow": null,
            "overflow_x": null,
            "overflow_y": null,
            "padding": null,
            "right": null,
            "top": null,
            "visibility": null,
            "width": null
          }
        },
        "c9f9b0b5bc2546ce8ed5e1ee7dd18e63": {
          "model_module": "@jupyter-widgets/controls",
          "model_name": "ProgressStyleModel",
          "model_module_version": "1.5.0",
          "state": {
            "_model_module": "@jupyter-widgets/controls",
            "_model_module_version": "1.5.0",
            "_model_name": "ProgressStyleModel",
            "_view_count": null,
            "_view_module": "@jupyter-widgets/base",
            "_view_module_version": "1.2.0",
            "_view_name": "StyleView",
            "bar_color": null,
            "description_width": ""
          }
        },
        "c8bdc6b6c4774004b9bf51dd3ac37a5b": {
          "model_module": "@jupyter-widgets/base",
          "model_name": "LayoutModel",
          "model_module_version": "1.2.0",
          "state": {
            "_model_module": "@jupyter-widgets/base",
            "_model_module_version": "1.2.0",
            "_model_name": "LayoutModel",
            "_view_count": null,
            "_view_module": "@jupyter-widgets/base",
            "_view_module_version": "1.2.0",
            "_view_name": "LayoutView",
            "align_content": null,
            "align_items": null,
            "align_self": null,
            "border": null,
            "bottom": null,
            "display": null,
            "flex": null,
            "flex_flow": null,
            "grid_area": null,
            "grid_auto_columns": null,
            "grid_auto_flow": null,
            "grid_auto_rows": null,
            "grid_column": null,
            "grid_gap": null,
            "grid_row": null,
            "grid_template_areas": null,
            "grid_template_columns": null,
            "grid_template_rows": null,
            "height": null,
            "justify_content": null,
            "justify_items": null,
            "left": null,
            "margin": null,
            "max_height": null,
            "max_width": null,
            "min_height": null,
            "min_width": null,
            "object_fit": null,
            "object_position": null,
            "order": null,
            "overflow": null,
            "overflow_x": null,
            "overflow_y": null,
            "padding": null,
            "right": null,
            "top": null,
            "visibility": null,
            "width": null
          }
        },
        "c48bd438e2b54313937a3ca98a7d8b1e": {
          "model_module": "@jupyter-widgets/controls",
          "model_name": "DescriptionStyleModel",
          "model_module_version": "1.5.0",
          "state": {
            "_model_module": "@jupyter-widgets/controls",
            "_model_module_version": "1.5.0",
            "_model_name": "DescriptionStyleModel",
            "_view_count": null,
            "_view_module": "@jupyter-widgets/base",
            "_view_module_version": "1.2.0",
            "_view_name": "StyleView",
            "description_width": ""
          }
        },
        "396ff82dcec4479491858a165524945e": {
          "model_module": "@jupyter-widgets/controls",
          "model_name": "HBoxModel",
          "model_module_version": "1.5.0",
          "state": {
            "_dom_classes": [],
            "_model_module": "@jupyter-widgets/controls",
            "_model_module_version": "1.5.0",
            "_model_name": "HBoxModel",
            "_view_count": null,
            "_view_module": "@jupyter-widgets/controls",
            "_view_module_version": "1.5.0",
            "_view_name": "HBoxView",
            "box_style": "",
            "children": [
              "IPY_MODEL_ce662c8cf05b4288b6c82fccaf0b3bf2",
              "IPY_MODEL_1d99c3c4542c4dcfa4c162e5779a6cd1",
              "IPY_MODEL_b7abc793bca04aec816af2ec06a5c553"
            ],
            "layout": "IPY_MODEL_fc0760beef164102a9d675228ff2970b"
          }
        },
        "ce662c8cf05b4288b6c82fccaf0b3bf2": {
          "model_module": "@jupyter-widgets/controls",
          "model_name": "HTMLModel",
          "model_module_version": "1.5.0",
          "state": {
            "_dom_classes": [],
            "_model_module": "@jupyter-widgets/controls",
            "_model_module_version": "1.5.0",
            "_model_name": "HTMLModel",
            "_view_count": null,
            "_view_module": "@jupyter-widgets/controls",
            "_view_module_version": "1.5.0",
            "_view_name": "HTMLView",
            "description": "",
            "description_tooltip": null,
            "layout": "IPY_MODEL_dbb2752d8f4445c6b7cb285cd599138c",
            "placeholder": "​",
            "style": "IPY_MODEL_1f995834d8c744b384bea7e7f8e4da2d",
            "value": "config.json: 100%"
          }
        },
        "1d99c3c4542c4dcfa4c162e5779a6cd1": {
          "model_module": "@jupyter-widgets/controls",
          "model_name": "FloatProgressModel",
          "model_module_version": "1.5.0",
          "state": {
            "_dom_classes": [],
            "_model_module": "@jupyter-widgets/controls",
            "_model_module_version": "1.5.0",
            "_model_name": "FloatProgressModel",
            "_view_count": null,
            "_view_module": "@jupyter-widgets/controls",
            "_view_module_version": "1.5.0",
            "_view_name": "ProgressView",
            "bar_style": "success",
            "description": "",
            "description_tooltip": null,
            "layout": "IPY_MODEL_c8eead787b9b41f59e762c2e331cf564",
            "max": 570,
            "min": 0,
            "orientation": "horizontal",
            "style": "IPY_MODEL_4df5ae0a89724cef9db3d7c5c90ad376",
            "value": 570
          }
        },
        "b7abc793bca04aec816af2ec06a5c553": {
          "model_module": "@jupyter-widgets/controls",
          "model_name": "HTMLModel",
          "model_module_version": "1.5.0",
          "state": {
            "_dom_classes": [],
            "_model_module": "@jupyter-widgets/controls",
            "_model_module_version": "1.5.0",
            "_model_name": "HTMLModel",
            "_view_count": null,
            "_view_module": "@jupyter-widgets/controls",
            "_view_module_version": "1.5.0",
            "_view_name": "HTMLView",
            "description": "",
            "description_tooltip": null,
            "layout": "IPY_MODEL_28fc314d4aa640c7a8e82ff5c0ebb7f3",
            "placeholder": "​",
            "style": "IPY_MODEL_694834aef59d48adaa9b3b5e5a187dcf",
            "value": " 570/570 [00:00&lt;00:00, 8.91kB/s]"
          }
        },
        "fc0760beef164102a9d675228ff2970b": {
          "model_module": "@jupyter-widgets/base",
          "model_name": "LayoutModel",
          "model_module_version": "1.2.0",
          "state": {
            "_model_module": "@jupyter-widgets/base",
            "_model_module_version": "1.2.0",
            "_model_name": "LayoutModel",
            "_view_count": null,
            "_view_module": "@jupyter-widgets/base",
            "_view_module_version": "1.2.0",
            "_view_name": "LayoutView",
            "align_content": null,
            "align_items": null,
            "align_self": null,
            "border": null,
            "bottom": null,
            "display": null,
            "flex": null,
            "flex_flow": null,
            "grid_area": null,
            "grid_auto_columns": null,
            "grid_auto_flow": null,
            "grid_auto_rows": null,
            "grid_column": null,
            "grid_gap": null,
            "grid_row": null,
            "grid_template_areas": null,
            "grid_template_columns": null,
            "grid_template_rows": null,
            "height": null,
            "justify_content": null,
            "justify_items": null,
            "left": null,
            "margin": null,
            "max_height": null,
            "max_width": null,
            "min_height": null,
            "min_width": null,
            "object_fit": null,
            "object_position": null,
            "order": null,
            "overflow": null,
            "overflow_x": null,
            "overflow_y": null,
            "padding": null,
            "right": null,
            "top": null,
            "visibility": null,
            "width": null
          }
        },
        "dbb2752d8f4445c6b7cb285cd599138c": {
          "model_module": "@jupyter-widgets/base",
          "model_name": "LayoutModel",
          "model_module_version": "1.2.0",
          "state": {
            "_model_module": "@jupyter-widgets/base",
            "_model_module_version": "1.2.0",
            "_model_name": "LayoutModel",
            "_view_count": null,
            "_view_module": "@jupyter-widgets/base",
            "_view_module_version": "1.2.0",
            "_view_name": "LayoutView",
            "align_content": null,
            "align_items": null,
            "align_self": null,
            "border": null,
            "bottom": null,
            "display": null,
            "flex": null,
            "flex_flow": null,
            "grid_area": null,
            "grid_auto_columns": null,
            "grid_auto_flow": null,
            "grid_auto_rows": null,
            "grid_column": null,
            "grid_gap": null,
            "grid_row": null,
            "grid_template_areas": null,
            "grid_template_columns": null,
            "grid_template_rows": null,
            "height": null,
            "justify_content": null,
            "justify_items": null,
            "left": null,
            "margin": null,
            "max_height": null,
            "max_width": null,
            "min_height": null,
            "min_width": null,
            "object_fit": null,
            "object_position": null,
            "order": null,
            "overflow": null,
            "overflow_x": null,
            "overflow_y": null,
            "padding": null,
            "right": null,
            "top": null,
            "visibility": null,
            "width": null
          }
        },
        "1f995834d8c744b384bea7e7f8e4da2d": {
          "model_module": "@jupyter-widgets/controls",
          "model_name": "DescriptionStyleModel",
          "model_module_version": "1.5.0",
          "state": {
            "_model_module": "@jupyter-widgets/controls",
            "_model_module_version": "1.5.0",
            "_model_name": "DescriptionStyleModel",
            "_view_count": null,
            "_view_module": "@jupyter-widgets/base",
            "_view_module_version": "1.2.0",
            "_view_name": "StyleView",
            "description_width": ""
          }
        },
        "c8eead787b9b41f59e762c2e331cf564": {
          "model_module": "@jupyter-widgets/base",
          "model_name": "LayoutModel",
          "model_module_version": "1.2.0",
          "state": {
            "_model_module": "@jupyter-widgets/base",
            "_model_module_version": "1.2.0",
            "_model_name": "LayoutModel",
            "_view_count": null,
            "_view_module": "@jupyter-widgets/base",
            "_view_module_version": "1.2.0",
            "_view_name": "LayoutView",
            "align_content": null,
            "align_items": null,
            "align_self": null,
            "border": null,
            "bottom": null,
            "display": null,
            "flex": null,
            "flex_flow": null,
            "grid_area": null,
            "grid_auto_columns": null,
            "grid_auto_flow": null,
            "grid_auto_rows": null,
            "grid_column": null,
            "grid_gap": null,
            "grid_row": null,
            "grid_template_areas": null,
            "grid_template_columns": null,
            "grid_template_rows": null,
            "height": null,
            "justify_content": null,
            "justify_items": null,
            "left": null,
            "margin": null,
            "max_height": null,
            "max_width": null,
            "min_height": null,
            "min_width": null,
            "object_fit": null,
            "object_position": null,
            "order": null,
            "overflow": null,
            "overflow_x": null,
            "overflow_y": null,
            "padding": null,
            "right": null,
            "top": null,
            "visibility": null,
            "width": null
          }
        },
        "4df5ae0a89724cef9db3d7c5c90ad376": {
          "model_module": "@jupyter-widgets/controls",
          "model_name": "ProgressStyleModel",
          "model_module_version": "1.5.0",
          "state": {
            "_model_module": "@jupyter-widgets/controls",
            "_model_module_version": "1.5.0",
            "_model_name": "ProgressStyleModel",
            "_view_count": null,
            "_view_module": "@jupyter-widgets/base",
            "_view_module_version": "1.2.0",
            "_view_name": "StyleView",
            "bar_color": null,
            "description_width": ""
          }
        },
        "28fc314d4aa640c7a8e82ff5c0ebb7f3": {
          "model_module": "@jupyter-widgets/base",
          "model_name": "LayoutModel",
          "model_module_version": "1.2.0",
          "state": {
            "_model_module": "@jupyter-widgets/base",
            "_model_module_version": "1.2.0",
            "_model_name": "LayoutModel",
            "_view_count": null,
            "_view_module": "@jupyter-widgets/base",
            "_view_module_version": "1.2.0",
            "_view_name": "LayoutView",
            "align_content": null,
            "align_items": null,
            "align_self": null,
            "border": null,
            "bottom": null,
            "display": null,
            "flex": null,
            "flex_flow": null,
            "grid_area": null,
            "grid_auto_columns": null,
            "grid_auto_flow": null,
            "grid_auto_rows": null,
            "grid_column": null,
            "grid_gap": null,
            "grid_row": null,
            "grid_template_areas": null,
            "grid_template_columns": null,
            "grid_template_rows": null,
            "height": null,
            "justify_content": null,
            "justify_items": null,
            "left": null,
            "margin": null,
            "max_height": null,
            "max_width": null,
            "min_height": null,
            "min_width": null,
            "object_fit": null,
            "object_position": null,
            "order": null,
            "overflow": null,
            "overflow_x": null,
            "overflow_y": null,
            "padding": null,
            "right": null,
            "top": null,
            "visibility": null,
            "width": null
          }
        },
        "694834aef59d48adaa9b3b5e5a187dcf": {
          "model_module": "@jupyter-widgets/controls",
          "model_name": "DescriptionStyleModel",
          "model_module_version": "1.5.0",
          "state": {
            "_model_module": "@jupyter-widgets/controls",
            "_model_module_version": "1.5.0",
            "_model_name": "DescriptionStyleModel",
            "_view_count": null,
            "_view_module": "@jupyter-widgets/base",
            "_view_module_version": "1.2.0",
            "_view_name": "StyleView",
            "description_width": ""
          }
        },
        "471d4a4bec084d59a649006fe2b5a645": {
          "model_module": "@jupyter-widgets/controls",
          "model_name": "HBoxModel",
          "model_module_version": "1.5.0",
          "state": {
            "_dom_classes": [],
            "_model_module": "@jupyter-widgets/controls",
            "_model_module_version": "1.5.0",
            "_model_name": "HBoxModel",
            "_view_count": null,
            "_view_module": "@jupyter-widgets/controls",
            "_view_module_version": "1.5.0",
            "_view_name": "HBoxView",
            "box_style": "",
            "children": [
              "IPY_MODEL_ad2778c2b6154eaf908f391ff801dbe5",
              "IPY_MODEL_88fe5a26569b4591ac6fdfd65227d88d",
              "IPY_MODEL_5a3cb106b43443d082bb88ed4fc7c224"
            ],
            "layout": "IPY_MODEL_da39025094b84cf7918ad007a887d816"
          }
        },
        "ad2778c2b6154eaf908f391ff801dbe5": {
          "model_module": "@jupyter-widgets/controls",
          "model_name": "HTMLModel",
          "model_module_version": "1.5.0",
          "state": {
            "_dom_classes": [],
            "_model_module": "@jupyter-widgets/controls",
            "_model_module_version": "1.5.0",
            "_model_name": "HTMLModel",
            "_view_count": null,
            "_view_module": "@jupyter-widgets/controls",
            "_view_module_version": "1.5.0",
            "_view_name": "HTMLView",
            "description": "",
            "description_tooltip": null,
            "layout": "IPY_MODEL_15017fdac45c4fbda109ab9398a8db65",
            "placeholder": "​",
            "style": "IPY_MODEL_05801d0aeb754f989d5a130085858241",
            "value": "model.safetensors: 100%"
          }
        },
        "88fe5a26569b4591ac6fdfd65227d88d": {
          "model_module": "@jupyter-widgets/controls",
          "model_name": "FloatProgressModel",
          "model_module_version": "1.5.0",
          "state": {
            "_dom_classes": [],
            "_model_module": "@jupyter-widgets/controls",
            "_model_module_version": "1.5.0",
            "_model_name": "FloatProgressModel",
            "_view_count": null,
            "_view_module": "@jupyter-widgets/controls",
            "_view_module_version": "1.5.0",
            "_view_name": "ProgressView",
            "bar_style": "success",
            "description": "",
            "description_tooltip": null,
            "layout": "IPY_MODEL_3a58954082974cefa7224e07b3c54585",
            "max": 440449768,
            "min": 0,
            "orientation": "horizontal",
            "style": "IPY_MODEL_710d39c3b1cf4b8db70462bb2c31b8b8",
            "value": 440449768
          }
        },
        "5a3cb106b43443d082bb88ed4fc7c224": {
          "model_module": "@jupyter-widgets/controls",
          "model_name": "HTMLModel",
          "model_module_version": "1.5.0",
          "state": {
            "_dom_classes": [],
            "_model_module": "@jupyter-widgets/controls",
            "_model_module_version": "1.5.0",
            "_model_name": "HTMLModel",
            "_view_count": null,
            "_view_module": "@jupyter-widgets/controls",
            "_view_module_version": "1.5.0",
            "_view_name": "HTMLView",
            "description": "",
            "description_tooltip": null,
            "layout": "IPY_MODEL_aead339cdc974c76b1852217a1ee3875",
            "placeholder": "​",
            "style": "IPY_MODEL_e4f2d4a5e5234a728b26d2208d192aea",
            "value": " 440M/440M [00:06&lt;00:00, 140MB/s]"
          }
        },
        "da39025094b84cf7918ad007a887d816": {
          "model_module": "@jupyter-widgets/base",
          "model_name": "LayoutModel",
          "model_module_version": "1.2.0",
          "state": {
            "_model_module": "@jupyter-widgets/base",
            "_model_module_version": "1.2.0",
            "_model_name": "LayoutModel",
            "_view_count": null,
            "_view_module": "@jupyter-widgets/base",
            "_view_module_version": "1.2.0",
            "_view_name": "LayoutView",
            "align_content": null,
            "align_items": null,
            "align_self": null,
            "border": null,
            "bottom": null,
            "display": null,
            "flex": null,
            "flex_flow": null,
            "grid_area": null,
            "grid_auto_columns": null,
            "grid_auto_flow": null,
            "grid_auto_rows": null,
            "grid_column": null,
            "grid_gap": null,
            "grid_row": null,
            "grid_template_areas": null,
            "grid_template_columns": null,
            "grid_template_rows": null,
            "height": null,
            "justify_content": null,
            "justify_items": null,
            "left": null,
            "margin": null,
            "max_height": null,
            "max_width": null,
            "min_height": null,
            "min_width": null,
            "object_fit": null,
            "object_position": null,
            "order": null,
            "overflow": null,
            "overflow_x": null,
            "overflow_y": null,
            "padding": null,
            "right": null,
            "top": null,
            "visibility": null,
            "width": null
          }
        },
        "15017fdac45c4fbda109ab9398a8db65": {
          "model_module": "@jupyter-widgets/base",
          "model_name": "LayoutModel",
          "model_module_version": "1.2.0",
          "state": {
            "_model_module": "@jupyter-widgets/base",
            "_model_module_version": "1.2.0",
            "_model_name": "LayoutModel",
            "_view_count": null,
            "_view_module": "@jupyter-widgets/base",
            "_view_module_version": "1.2.0",
            "_view_name": "LayoutView",
            "align_content": null,
            "align_items": null,
            "align_self": null,
            "border": null,
            "bottom": null,
            "display": null,
            "flex": null,
            "flex_flow": null,
            "grid_area": null,
            "grid_auto_columns": null,
            "grid_auto_flow": null,
            "grid_auto_rows": null,
            "grid_column": null,
            "grid_gap": null,
            "grid_row": null,
            "grid_template_areas": null,
            "grid_template_columns": null,
            "grid_template_rows": null,
            "height": null,
            "justify_content": null,
            "justify_items": null,
            "left": null,
            "margin": null,
            "max_height": null,
            "max_width": null,
            "min_height": null,
            "min_width": null,
            "object_fit": null,
            "object_position": null,
            "order": null,
            "overflow": null,
            "overflow_x": null,
            "overflow_y": null,
            "padding": null,
            "right": null,
            "top": null,
            "visibility": null,
            "width": null
          }
        },
        "05801d0aeb754f989d5a130085858241": {
          "model_module": "@jupyter-widgets/controls",
          "model_name": "DescriptionStyleModel",
          "model_module_version": "1.5.0",
          "state": {
            "_model_module": "@jupyter-widgets/controls",
            "_model_module_version": "1.5.0",
            "_model_name": "DescriptionStyleModel",
            "_view_count": null,
            "_view_module": "@jupyter-widgets/base",
            "_view_module_version": "1.2.0",
            "_view_name": "StyleView",
            "description_width": ""
          }
        },
        "3a58954082974cefa7224e07b3c54585": {
          "model_module": "@jupyter-widgets/base",
          "model_name": "LayoutModel",
          "model_module_version": "1.2.0",
          "state": {
            "_model_module": "@jupyter-widgets/base",
            "_model_module_version": "1.2.0",
            "_model_name": "LayoutModel",
            "_view_count": null,
            "_view_module": "@jupyter-widgets/base",
            "_view_module_version": "1.2.0",
            "_view_name": "LayoutView",
            "align_content": null,
            "align_items": null,
            "align_self": null,
            "border": null,
            "bottom": null,
            "display": null,
            "flex": null,
            "flex_flow": null,
            "grid_area": null,
            "grid_auto_columns": null,
            "grid_auto_flow": null,
            "grid_auto_rows": null,
            "grid_column": null,
            "grid_gap": null,
            "grid_row": null,
            "grid_template_areas": null,
            "grid_template_columns": null,
            "grid_template_rows": null,
            "height": null,
            "justify_content": null,
            "justify_items": null,
            "left": null,
            "margin": null,
            "max_height": null,
            "max_width": null,
            "min_height": null,
            "min_width": null,
            "object_fit": null,
            "object_position": null,
            "order": null,
            "overflow": null,
            "overflow_x": null,
            "overflow_y": null,
            "padding": null,
            "right": null,
            "top": null,
            "visibility": null,
            "width": null
          }
        },
        "710d39c3b1cf4b8db70462bb2c31b8b8": {
          "model_module": "@jupyter-widgets/controls",
          "model_name": "ProgressStyleModel",
          "model_module_version": "1.5.0",
          "state": {
            "_model_module": "@jupyter-widgets/controls",
            "_model_module_version": "1.5.0",
            "_model_name": "ProgressStyleModel",
            "_view_count": null,
            "_view_module": "@jupyter-widgets/base",
            "_view_module_version": "1.2.0",
            "_view_name": "StyleView",
            "bar_color": null,
            "description_width": ""
          }
        },
        "aead339cdc974c76b1852217a1ee3875": {
          "model_module": "@jupyter-widgets/base",
          "model_name": "LayoutModel",
          "model_module_version": "1.2.0",
          "state": {
            "_model_module": "@jupyter-widgets/base",
            "_model_module_version": "1.2.0",
            "_model_name": "LayoutModel",
            "_view_count": null,
            "_view_module": "@jupyter-widgets/base",
            "_view_module_version": "1.2.0",
            "_view_name": "LayoutView",
            "align_content": null,
            "align_items": null,
            "align_self": null,
            "border": null,
            "bottom": null,
            "display": null,
            "flex": null,
            "flex_flow": null,
            "grid_area": null,
            "grid_auto_columns": null,
            "grid_auto_flow": null,
            "grid_auto_rows": null,
            "grid_column": null,
            "grid_gap": null,
            "grid_row": null,
            "grid_template_areas": null,
            "grid_template_columns": null,
            "grid_template_rows": null,
            "height": null,
            "justify_content": null,
            "justify_items": null,
            "left": null,
            "margin": null,
            "max_height": null,
            "max_width": null,
            "min_height": null,
            "min_width": null,
            "object_fit": null,
            "object_position": null,
            "order": null,
            "overflow": null,
            "overflow_x": null,
            "overflow_y": null,
            "padding": null,
            "right": null,
            "top": null,
            "visibility": null,
            "width": null
          }
        },
        "e4f2d4a5e5234a728b26d2208d192aea": {
          "model_module": "@jupyter-widgets/controls",
          "model_name": "DescriptionStyleModel",
          "model_module_version": "1.5.0",
          "state": {
            "_model_module": "@jupyter-widgets/controls",
            "_model_module_version": "1.5.0",
            "_model_name": "DescriptionStyleModel",
            "_view_count": null,
            "_view_module": "@jupyter-widgets/base",
            "_view_module_version": "1.2.0",
            "_view_name": "StyleView",
            "description_width": ""
          }
        }
      }
    }
  },
  "nbformat": 4,
  "nbformat_minor": 0
}